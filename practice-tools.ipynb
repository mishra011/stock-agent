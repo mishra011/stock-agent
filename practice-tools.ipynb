{
 "cells": [
  {
   "cell_type": "code",
   "execution_count": 6,
   "metadata": {},
   "outputs": [
    {
     "data": {
      "text/plain": [
       "True"
      ]
     },
     "execution_count": 6,
     "metadata": {},
     "output_type": "execute_result"
    }
   ],
   "source": [
    "import json\n",
    "import os\n",
    "\n",
    "import requests\n",
    "from langchain.tools import tool\n",
    "from dotenv import load_dotenv\n",
    "load_dotenv()\n",
    "\n"
   ]
  },
  {
   "cell_type": "code",
   "execution_count": 13,
   "metadata": {},
   "outputs": [],
   "source": [
    "def search_internet(query):\n",
    "    url = \"https://google.serper.dev/search\"\n",
    "    payload = json.dumps({\"q\": query})\n",
    "    headers = {\n",
    "        'X-API-KEY': os.environ['SERPER_API_KEY'],\n",
    "        'content-type': 'application/json'\n",
    "    }\n",
    "    response = requests.request(\"POST\", url, headers=headers, data=payload)\n",
    "    return response"
   ]
  },
  {
   "cell_type": "code",
   "execution_count": 14,
   "metadata": {},
   "outputs": [],
   "source": [
    "response = search_internet(\"BMW\")"
   ]
  },
  {
   "cell_type": "code",
   "execution_count": 15,
   "metadata": {},
   "outputs": [
    {
     "data": {
      "text/plain": [
       "{'searchParameters': {'q': 'BMW', 'type': 'search', 'engine': 'google'},\n",
       " 'knowledgeGraph': {'title': 'Bayerische Motoren Werke AG',\n",
       "  'type': 'Luxury vehicles company',\n",
       "  'imageUrl': 'https://encrypted-tbn0.gstatic.com/images?q=tbn:ANd9GcSm7U2BJDwRbg0bfghu9V4ttun74eUtlDOSt8KtzSTK7PomdlTswB5wnA&s=0',\n",
       "  'description': 'Bayerische Motoren Werke AG, commonly abbreviated to BMW, is a German multinational manufacturer of luxury vehicles and motorcycles headquartered in Munich, Bavaria, Germany.',\n",
       "  'descriptionSource': 'Wikipedia',\n",
       "  'descriptionLink': 'https://en.wikipedia.org/wiki/BMW',\n",
       "  'attributes': {'Owners': 'Susanne Klatten and Stefan Quandt',\n",
       "   'Founders': 'Karl Rapp, Gustav Otto, Camillo Castiglioni, and more',\n",
       "   'Subsidiaries': 'BMW Motorrad, BMW M, Alpina, and more',\n",
       "   'Customer service': '1 (800) 831-1117',\n",
       "   'Revenue': '142.6\\xa0billion EUR (2022)'}},\n",
       " 'organic': [{'title': 'BMW USA: Luxury SUVs, Sedans, Coupes, Convertibles & Crossovers',\n",
       "   'link': 'https://www.bmwusa.com/',\n",
       "   'snippet': 'Explore models, build your own, and find local inventory from a nearby BMW Center. Experience the performance, luxury, and innovation of the Ultimate ...',\n",
       "   'sitelinks': [{'title': 'Build Your Own',\n",
       "     'link': 'https://www.bmwusa.com/build-your-own.html'},\n",
       "    {'title': 'All BMW Models',\n",
       "     'link': 'https://www.bmwusa.com/all-bmws.html'},\n",
       "    {'title': 'Shop Pre-Owned Inventory',\n",
       "     'link': 'https://www.bmwusa.com/certified-preowned-search.html'},\n",
       "    {'title': 'Shop New Inventory',\n",
       "     'link': 'https://www.bmwusa.com/inventory.html'},\n",
       "    {'title': 'Lease & Finance Offers',\n",
       "     'link': 'https://www.bmwusa.com/special-offers.html'}],\n",
       "   'position': 1},\n",
       "  {'title': 'Home | BMW Motorrad',\n",
       "   'link': 'https://www.bmwmotorcycles.com/en/home.html',\n",
       "   'snippet': 'Manage your BMW ID for all BMW Motorrad, BMW and MINI offers. My BMW Motorrad ... The BMW Motorrad Concept Link takes new, connected paths.',\n",
       "   'sitelinks': [{'title': 'All Models',\n",
       "     'link': 'https://www.bmwmotorcycles.com/en/models/modeloverview.html'},\n",
       "    {'title': 'My BMW',\n",
       "     'link': 'https://www.bmwmotorcycles.com/en/my-bmw-motorrad.html'},\n",
       "    {'title': 'Model selection',\n",
       "     'link': 'https://configurator.bmwmotorcycles.com/index_en_US.html?cookie=1'},\n",
       "    {'title': 'BMW Financial Services',\n",
       "     'link': 'https://www.bmwmotorcycles.com/en/financial-services/overview.html'}],\n",
       "   'position': 2},\n",
       "  {'title': 'BMW Group',\n",
       "   'link': 'https://www.bmwgroup.com/en.html',\n",
       "   'snippet': 'Welcome to the BMW Group. Our focus on the premium idea and the principle of sustainability appeals to people worldwide.',\n",
       "   'sitelinks': [{'title': 'Company',\n",
       "     'link': 'https://www.bmwgroup.com/en/company.html'},\n",
       "    {'title': 'The BMW Vision Neue Klasse X',\n",
       "     'link': 'https://www.bmwgroup.com/en/news/general/2024/bmw-vision-neue-klasse-x.html'},\n",
       "    {'title': 'Investor Relations',\n",
       "     'link': 'https://www.bmwgroup.com/en/investor-relations.html'},\n",
       "    {'title': 'Sustainability',\n",
       "     'link': 'https://www.bmwgroup.com/en/sustainability.html'}],\n",
       "   'position': 3},\n",
       "  {'title': 'BMW - Wikipedia',\n",
       "   'link': 'https://en.wikipedia.org/wiki/BMW',\n",
       "   'snippet': 'Bayerische Motoren Werke AG, commonly abbreviated to BMW is a German multinational manufacturer of luxury vehicles and motorcycles headquartered in Munich, ...',\n",
       "   'sitelinks': [{'title': 'History',\n",
       "     'link': 'https://en.wikipedia.org/wiki/History_of_BMW'},\n",
       "    {'title': 'BMW in the United States',\n",
       "     'link': 'https://en.wikipedia.org/wiki/BMW_in_the_United_States'},\n",
       "    {'title': 'List of BMW vehicles',\n",
       "     'link': 'https://en.wikipedia.org/wiki/List_of_BMW_vehicles'},\n",
       "    {'title': 'BMW Dixi', 'link': 'https://en.wikipedia.org/wiki/BMW_Dixi'}],\n",
       "   'position': 4},\n",
       "  {'title': 'BMW Motorrad: Home',\n",
       "   'link': 'https://www.bmw-motorrad.com/en/home.html',\n",
       "   'snippet': 'The BMW Motorrad Experience Hub: Experience the brand BMW Motorrad and be inspired by the #MakeLifeARide spirit.',\n",
       "   'position': 5},\n",
       "  {'title': 'BMW.com | The international BMW Website',\n",
       "   'link': 'https://www.bmw.com/en/index.html',\n",
       "   'snippet': 'Dive into new worlds with BMW, get inspired, and experience the unknown, the unusual and some useful things, too.',\n",
       "   'sitelinks': [{'title': 'About BMW.com',\n",
       "     'link': 'https://www.bmw.com/en/footer/about-bmw-com.html'},\n",
       "    {'title': 'Software Update',\n",
       "     'link': 'https://www.bmw.com/en/footer/software-updates.html'},\n",
       "    {'title': 'BMW i5',\n",
       "     'link': 'https://www.bmw.com/en/digital-journey/bmw-i5-helpful-features-for-everyday-life.html'},\n",
       "    {'title': 'BMW Podcasts',\n",
       "     'link': 'https://www.bmw.com/en/podcasts-overview.html'}],\n",
       "   'position': 6},\n",
       "  {'title': 'all models, colors, packages and prices - BMW Motorrad Configurator',\n",
       "   'link': 'https://configurator.bmwmotorcycles.com/index_en_US.html?cookie=1',\n",
       "   'snippet': 'The official BMW Motorrad NA Bike Configurator. Build your dream bike. View our current model range, find a retailer and test ride a BMW motorcycle today.',\n",
       "   'position': 7}],\n",
       " 'places': [{'title': 'Galleria BMW',\n",
       "   'address': \"D'Iberville, MS\",\n",
       "   'cid': '14727175524010725493'},\n",
       "  {'title': 'BMW of Des Moines',\n",
       "   'address': 'Urbandale, IA',\n",
       "   'cid': '7329217977428459589'},\n",
       "  {'title': 'BMW of Tulsa',\n",
       "   'address': 'Tulsa, OK',\n",
       "   'cid': '588775629214534741'}],\n",
       " 'peopleAlsoAsk': [{'question': 'What does BMW stand for?',\n",
       "   'snippet': \"Bayerische Motoren Werke Aktiengesellschaft\\nThe acronym BMW stands for Bayerische Motoren Werke GmbH, which roughly translates to the Bavarian Engine Works Company. The name harks back to the company's origin in the German state of Bavaria. It also indicates BMW's original product range: engines for various applications.\",\n",
       "   'title': 'How the BMW name was created',\n",
       "   'link': 'https://www.bmw.com/en/automotive-life/BMW-name-meaning-and-history.html'},\n",
       "  {'question': 'Is BMW German or British?',\n",
       "   'snippet': 'What Country is the BMW From? Many drivers look at the sleek European styling of these luxury vehicles and ask, “Where did BMW originate?” or “Is BMW German?” BMW is a German automaker, originating in Munich Germany, where it is still headquartered.',\n",
       "   'title': 'Is BMW a Foreign Car? | BMW of Peoria',\n",
       "   'link': 'https://www.bmwofpeoria.com/manufacturer-information/bmw-foreign-car/'},\n",
       "  {'question': 'Which is better, BMW or Mercedes?',\n",
       "   'snippet': 'Mercedes-Benz vs BMW: Which Brand Has Better Performance? Performance is a crucial factor to consider when buying a luxury car. BMW has a slight edge over Mercedes in terms of performance and driving dynamics. However, Mercedes offers a more refined and luxurious driving experience.',\n",
       "   'title': 'Mercedes vs BMW: The age-old rivals - TYR Car Sales',\n",
       "   'link': 'https://www.tyrcars.co.uk/blog/mercedes-vs-bmw-the-age-old-rivals'},\n",
       "  {'question': 'Are BMWs expensive to maintain?',\n",
       "   'snippet': \"Is it expensive to maintain a BMW? Yes, BMWs can be expensive to maintain, with the average annual maintenance cost being around $968, according to RepairPal. While this is more expensive than standard vehicles, it's on par with the annual maintenance costs of luxury vehicles.\",\n",
       "   'title': 'How Much Does BMW Maintenance Cost? (2024 Guide) - MarketWatch',\n",
       "   'link': 'https://www.marketwatch.com/guides/car-warranty/bmw-maintenance-cost/'}],\n",
       " 'relatedSearches': [{'query': 'Bmw bike'},\n",
       "  {'query': 'Bmw car'},\n",
       "  {'query': 'Bmw price'},\n",
       "  {'query': 'BMW UK'},\n",
       "  {'query': 'BMW usa'},\n",
       "  {'query': 'BMW logo'},\n",
       "  {'query': 'BMW SUV'},\n",
       "  {'query': 'Bmw 2024'}]}"
      ]
     },
     "execution_count": 15,
     "metadata": {},
     "output_type": "execute_result"
    }
   ],
   "source": [
    "response.json()"
   ]
  },
  {
   "cell_type": "code",
   "execution_count": 16,
   "metadata": {},
   "outputs": [
    {
     "data": {
      "text/plain": [
       "[{'title': 'BMW USA: Luxury SUVs, Sedans, Coupes, Convertibles & Crossovers',\n",
       "  'link': 'https://www.bmwusa.com/',\n",
       "  'snippet': 'Explore models, build your own, and find local inventory from a nearby BMW Center. Experience the performance, luxury, and innovation of the Ultimate ...',\n",
       "  'sitelinks': [{'title': 'Build Your Own',\n",
       "    'link': 'https://www.bmwusa.com/build-your-own.html'},\n",
       "   {'title': 'All BMW Models', 'link': 'https://www.bmwusa.com/all-bmws.html'},\n",
       "   {'title': 'Shop Pre-Owned Inventory',\n",
       "    'link': 'https://www.bmwusa.com/certified-preowned-search.html'},\n",
       "   {'title': 'Shop New Inventory',\n",
       "    'link': 'https://www.bmwusa.com/inventory.html'},\n",
       "   {'title': 'Lease & Finance Offers',\n",
       "    'link': 'https://www.bmwusa.com/special-offers.html'}],\n",
       "  'position': 1},\n",
       " {'title': 'Home | BMW Motorrad',\n",
       "  'link': 'https://www.bmwmotorcycles.com/en/home.html',\n",
       "  'snippet': 'Manage your BMW ID for all BMW Motorrad, BMW and MINI offers. My BMW Motorrad ... The BMW Motorrad Concept Link takes new, connected paths.',\n",
       "  'sitelinks': [{'title': 'All Models',\n",
       "    'link': 'https://www.bmwmotorcycles.com/en/models/modeloverview.html'},\n",
       "   {'title': 'My BMW',\n",
       "    'link': 'https://www.bmwmotorcycles.com/en/my-bmw-motorrad.html'},\n",
       "   {'title': 'Model selection',\n",
       "    'link': 'https://configurator.bmwmotorcycles.com/index_en_US.html?cookie=1'},\n",
       "   {'title': 'BMW Financial Services',\n",
       "    'link': 'https://www.bmwmotorcycles.com/en/financial-services/overview.html'}],\n",
       "  'position': 2},\n",
       " {'title': 'BMW Group',\n",
       "  'link': 'https://www.bmwgroup.com/en.html',\n",
       "  'snippet': 'Welcome to the BMW Group. Our focus on the premium idea and the principle of sustainability appeals to people worldwide.',\n",
       "  'sitelinks': [{'title': 'Company',\n",
       "    'link': 'https://www.bmwgroup.com/en/company.html'},\n",
       "   {'title': 'The BMW Vision Neue Klasse X',\n",
       "    'link': 'https://www.bmwgroup.com/en/news/general/2024/bmw-vision-neue-klasse-x.html'},\n",
       "   {'title': 'Investor Relations',\n",
       "    'link': 'https://www.bmwgroup.com/en/investor-relations.html'},\n",
       "   {'title': 'Sustainability',\n",
       "    'link': 'https://www.bmwgroup.com/en/sustainability.html'}],\n",
       "  'position': 3},\n",
       " {'title': 'BMW - Wikipedia',\n",
       "  'link': 'https://en.wikipedia.org/wiki/BMW',\n",
       "  'snippet': 'Bayerische Motoren Werke AG, commonly abbreviated to BMW is a German multinational manufacturer of luxury vehicles and motorcycles headquartered in Munich, ...',\n",
       "  'sitelinks': [{'title': 'History',\n",
       "    'link': 'https://en.wikipedia.org/wiki/History_of_BMW'},\n",
       "   {'title': 'BMW in the United States',\n",
       "    'link': 'https://en.wikipedia.org/wiki/BMW_in_the_United_States'},\n",
       "   {'title': 'List of BMW vehicles',\n",
       "    'link': 'https://en.wikipedia.org/wiki/List_of_BMW_vehicles'},\n",
       "   {'title': 'BMW Dixi', 'link': 'https://en.wikipedia.org/wiki/BMW_Dixi'}],\n",
       "  'position': 4},\n",
       " {'title': 'BMW Motorrad: Home',\n",
       "  'link': 'https://www.bmw-motorrad.com/en/home.html',\n",
       "  'snippet': 'The BMW Motorrad Experience Hub: Experience the brand BMW Motorrad and be inspired by the #MakeLifeARide spirit.',\n",
       "  'position': 5},\n",
       " {'title': 'BMW.com | The international BMW Website',\n",
       "  'link': 'https://www.bmw.com/en/index.html',\n",
       "  'snippet': 'Dive into new worlds with BMW, get inspired, and experience the unknown, the unusual and some useful things, too.',\n",
       "  'sitelinks': [{'title': 'About BMW.com',\n",
       "    'link': 'https://www.bmw.com/en/footer/about-bmw-com.html'},\n",
       "   {'title': 'Software Update',\n",
       "    'link': 'https://www.bmw.com/en/footer/software-updates.html'},\n",
       "   {'title': 'BMW i5',\n",
       "    'link': 'https://www.bmw.com/en/digital-journey/bmw-i5-helpful-features-for-everyday-life.html'},\n",
       "   {'title': 'BMW Podcasts',\n",
       "    'link': 'https://www.bmw.com/en/podcasts-overview.html'}],\n",
       "  'position': 6},\n",
       " {'title': 'all models, colors, packages and prices - BMW Motorrad Configurator',\n",
       "  'link': 'https://configurator.bmwmotorcycles.com/index_en_US.html?cookie=1',\n",
       "  'snippet': 'The official BMW Motorrad NA Bike Configurator. Build your dream bike. View our current model range, find a retailer and test ride a BMW motorcycle today.',\n",
       "  'position': 7}]"
      ]
     },
     "execution_count": 16,
     "metadata": {},
     "output_type": "execute_result"
    }
   ],
   "source": [
    "response.json()['organic']"
   ]
  },
  {
   "cell_type": "code",
   "execution_count": 21,
   "metadata": {},
   "outputs": [],
   "source": [
    "top_result_to_return = 4\n",
    "def search_news(query):\n",
    "    url = \"https://google.serper.dev/news\"\n",
    "    payload = json.dumps({\"q\": query})\n",
    "    headers = {\n",
    "        'X-API-KEY': os.environ['SERPER_API_KEY'],\n",
    "        'content-type': 'application/json'\n",
    "    }\n",
    "    response = requests.request(\"POST\", url, headers=headers, data=payload)\n",
    "    results = response.json()['news']\n",
    "    string = []\n",
    "    for result in results[:top_result_to_return]:\n",
    "      try:\n",
    "        string.append('\\n'.join([\n",
    "            f\"Title: {result['title']}\", f\"Link: {result['link']}\",\n",
    "            f\"Snippet: {result['snippet']}\", \"\\n-----------------\"\n",
    "        ]))\n",
    "      except KeyError:\n",
    "        next\n",
    "\n",
    "    return '\\n'.join(string)"
   ]
  },
  {
   "cell_type": "code",
   "execution_count": 22,
   "metadata": {},
   "outputs": [],
   "source": [
    "news_response = search_news(\"BMW\")"
   ]
  },
  {
   "cell_type": "code",
   "execution_count": 23,
   "metadata": {},
   "outputs": [
    {
     "data": {
      "text/plain": [
       "\"Title: The 2024 BMW M3 CS Is Stupid Fast\\nLink: https://www.motor1.com/reviews/725272/2024-bmw-m3-cs-review-track-test/\\nSnippet: We drive the 2024 BMW M3 CS and discover just how quick and capable it can be at Lime Rock Park, Connecticut's historic race track.\\n\\n-----------------\""
      ]
     },
     "execution_count": 23,
     "metadata": {},
     "output_type": "execute_result"
    }
   ],
   "source": [
    "news_response"
   ]
  },
  {
   "cell_type": "code",
   "execution_count": 24,
   "metadata": {},
   "outputs": [
    {
     "name": "stderr",
     "output_type": "stream",
     "text": [
      "USER_AGENT environment variable not set, consider setting it to identify your requests.\n"
     ]
    }
   ],
   "source": [
    "from langchain.tools.yahoo_finance_news import YahooFinanceNewsTool\n"
   ]
  },
  {
   "cell_type": "code",
   "execution_count": 36,
   "metadata": {},
   "outputs": [],
   "source": [
    "t = YahooFinanceNewsTool(query=\"GOOG\")"
   ]
  },
  {
   "cell_type": "code",
   "execution_count": 34,
   "metadata": {},
   "outputs": [
    {
     "data": {
      "text/plain": [
       "<Response [404]>"
      ]
     },
     "execution_count": 34,
     "metadata": {},
     "output_type": "execute_result"
    }
   ],
   "source": [
    "ynews"
   ]
  },
  {
   "cell_type": "code",
   "execution_count": 37,
   "metadata": {},
   "outputs": [],
   "source": [
    "from sec_api import QueryApi\n",
    "stock = \"GOOG\"\n",
    "if stock:\n",
    "    queryApi = QueryApi(api_key=os.environ['SEC_API_API_KEY'])\n",
    "    query = {\n",
    "      \"query\": {\n",
    "        \"query_string\": {\n",
    "          \"query\": f\"ticker:{stock} AND formType:\\\"10-Q\\\"\"\n",
    "        }\n",
    "      },\n",
    "      \"from\": \"0\",\n",
    "      \"size\": \"1\",\n",
    "      \"sort\": [{ \"filedAt\": { \"order\": \"desc\" }}]\n",
    "    }\n",
    "\n",
    "    fillings = queryApi.get_filings(query)['filings']\n",
    "    if len(fillings) == 0:\n",
    "      print(\"Sorry, I couldn't find any filling for this stock, check if the ticker is correct.\")\n",
    "    link = fillings[0]['linkToFilingDetails']"
   ]
  },
  {
   "cell_type": "code",
   "execution_count": 38,
   "metadata": {},
   "outputs": [
    {
     "data": {
      "text/plain": [
       "[{'ticker': 'GOOG',\n",
       "  'formType': '10-Q',\n",
       "  'accessionNo': '0001652044-24-000053',\n",
       "  'cik': '1652044',\n",
       "  'companyNameLong': 'Alphabet Inc. (Filer)',\n",
       "  'companyName': 'Alphabet Inc.',\n",
       "  'linkToFilingDetails': 'https://www.sec.gov/Archives/edgar/data/1652044/000165204424000053/goog-20240331.htm',\n",
       "  'description': 'Form 10-Q - Quarterly report [Sections 13 or 15(d)]',\n",
       "  'linkToTxt': 'https://www.sec.gov/Archives/edgar/data/1652044/000165204424000053/0001652044-24-000053.txt',\n",
       "  'filedAt': '2024-04-25T20:22:11-04:00',\n",
       "  'documentFormatFiles': [{'sequence': '1',\n",
       "    'size': '1493403',\n",
       "    'documentUrl': 'https://www.sec.gov/ix?doc=/Archives/edgar/data/1652044/000165204424000053/goog-20240331.htm',\n",
       "    'description': '10-Q',\n",
       "    'type': '10-Q'},\n",
       "   {'sequence': '2',\n",
       "    'size': '51747',\n",
       "    'documentUrl': 'https://www.sec.gov/Archives/edgar/data/1652044/000165204424000053/googexhibit1001q12024.htm',\n",
       "    'description': 'EX-10.01',\n",
       "    'type': 'EX-10.01'},\n",
       "   {'sequence': '3',\n",
       "    'size': '78819',\n",
       "    'documentUrl': 'https://www.sec.gov/Archives/edgar/data/1652044/000165204424000053/googexhibit1002q12024.htm',\n",
       "    'description': 'EX-10.02',\n",
       "    'type': 'EX-10.02'},\n",
       "   {'sequence': '4',\n",
       "    'size': '229952',\n",
       "    'documentUrl': 'https://www.sec.gov/Archives/edgar/data/1652044/000165204424000053/googexhibit1003q12024.htm',\n",
       "    'description': 'EX-10.03',\n",
       "    'type': 'EX-10.03'},\n",
       "   {'sequence': '5',\n",
       "    'size': '10920',\n",
       "    'documentUrl': 'https://www.sec.gov/Archives/edgar/data/1652044/000165204424000053/googexhibit3101q12024.htm',\n",
       "    'description': 'EX-31.01',\n",
       "    'type': 'EX-31.01'},\n",
       "   {'sequence': '6',\n",
       "    'size': '10943',\n",
       "    'documentUrl': 'https://www.sec.gov/Archives/edgar/data/1652044/000165204424000053/googexhibit3102q12024.htm',\n",
       "    'description': 'EX-31.02',\n",
       "    'type': 'EX-31.02'},\n",
       "   {'sequence': '7',\n",
       "    'size': '9409',\n",
       "    'documentUrl': 'https://www.sec.gov/Archives/edgar/data/1652044/000165204424000053/googexhibit3201q12024.htm',\n",
       "    'description': 'EX-32.01',\n",
       "    'type': 'EX-32.01'},\n",
       "   {'sequence': '\\xa0',\n",
       "    'size': '9730858',\n",
       "    'documentUrl': 'https://www.sec.gov/Archives/edgar/data/1652044/000165204424000053/0001652044-24-000053.txt',\n",
       "    'description': 'Complete submission text file',\n",
       "    'type': '\\xa0'}],\n",
       "  'periodOfReport': '2024-03-31',\n",
       "  'entities': [{'fiscalYearEnd': '1231',\n",
       "    'stateOfIncorporation': 'DE',\n",
       "    'act': '34',\n",
       "    'cik': '1652044',\n",
       "    'fileNo': '001-37580',\n",
       "    'irsNo': '611767919',\n",
       "    'companyName': 'Alphabet Inc. (Filer)',\n",
       "    'type': '10-Q',\n",
       "    'sic': '7370 Services-Computer Programming, Data Processing, Etc.',\n",
       "    'filmNo': '24878285',\n",
       "    'undefined': '06 Technology)'}],\n",
       "  'id': '25366c0d7adaf224adbdd4d33fab60fe',\n",
       "  'seriesAndClassesContractsInformation': [],\n",
       "  'linkToHtml': 'https://www.sec.gov/Archives/edgar/data/1652044/000165204424000053/0001652044-24-000053-index.htm',\n",
       "  'linkToXbrl': '',\n",
       "  'dataFiles': [{'sequence': '8',\n",
       "    'size': '56235',\n",
       "    'documentUrl': 'https://www.sec.gov/Archives/edgar/data/1652044/000165204424000053/goog-20240331.xsd',\n",
       "    'description': 'XBRL TAXONOMY EXTENSION SCHEMA DOCUMENT',\n",
       "    'type': 'EX-101.SCH'},\n",
       "   {'sequence': '9',\n",
       "    'size': '113928',\n",
       "    'documentUrl': 'https://www.sec.gov/Archives/edgar/data/1652044/000165204424000053/goog-20240331_cal.xml',\n",
       "    'description': 'XBRL TAXONOMY EXTENSION CALCULATION LINKBASE DOCUMENT',\n",
       "    'type': 'EX-101.CAL'},\n",
       "   {'sequence': '10',\n",
       "    'size': '313277',\n",
       "    'documentUrl': 'https://www.sec.gov/Archives/edgar/data/1652044/000165204424000053/goog-20240331_def.xml',\n",
       "    'description': 'XBRL TAXONOMY EXTENSION DEFINITION LINKBASE DOCUMENT',\n",
       "    'type': 'EX-101.DEF'},\n",
       "   {'sequence': '11',\n",
       "    'size': '749054',\n",
       "    'documentUrl': 'https://www.sec.gov/Archives/edgar/data/1652044/000165204424000053/goog-20240331_lab.xml',\n",
       "    'description': 'XBRL TAXONOMY EXTENSION LABEL LINKBASE DOCUMENT',\n",
       "    'type': 'EX-101.LAB'},\n",
       "   {'sequence': '12',\n",
       "    'size': '531976',\n",
       "    'documentUrl': 'https://www.sec.gov/Archives/edgar/data/1652044/000165204424000053/goog-20240331_pre.xml',\n",
       "    'description': 'XBRL TAXONOMY EXTENSION PRESENTATION LINKBASE DOCUMENT',\n",
       "    'type': 'EX-101.PRE'},\n",
       "   {'sequence': '94',\n",
       "    'size': '1681956',\n",
       "    'documentUrl': 'https://www.sec.gov/Archives/edgar/data/1652044/000165204424000053/goog-20240331_htm.xml',\n",
       "    'description': 'EXTRACTED XBRL INSTANCE DOCUMENT',\n",
       "    'type': 'XML'}]}]"
      ]
     },
     "execution_count": 38,
     "metadata": {},
     "output_type": "execute_result"
    }
   ],
   "source": [
    "fillings"
   ]
  },
  {
   "cell_type": "code",
   "execution_count": 40,
   "metadata": {},
   "outputs": [],
   "source": [
    "def __download_form_html(url):\n",
    "    headers = {\n",
    "      'Accept': 'text/html,application/xhtml+xml,application/xml;q=0.9,image/avif,image/webp,image/apng,*/*;q=0.8,application/signed-exchange;v=b3;q=0.7',\n",
    "      'Accept-Encoding': 'gzip, deflate, br',\n",
    "      'Accept-Language': 'en-US,en;q=0.9,pt-BR;q=0.8,pt;q=0.7',\n",
    "      'Cache-Control': 'max-age=0',\n",
    "      'Dnt': '1',\n",
    "      'Sec-Ch-Ua': '\"Not_A Brand\";v=\"8\", \"Chromium\";v=\"120\"',\n",
    "      'Sec-Ch-Ua-Mobile': '?0',\n",
    "      'Sec-Ch-Ua-Platform': '\"macOS\"',\n",
    "      'Sec-Fetch-Dest': 'document',\n",
    "      'Sec-Fetch-Mode': 'navigate',\n",
    "      'Sec-Fetch-Site': 'none',\n",
    "      'Sec-Fetch-User': '?1',\n",
    "      'Upgrade-Insecure-Requests': '1',\n",
    "      'User-Agent': 'Mozilla/5.0 (Macintosh; Intel Mac OS X 10_15_7) AppleWebKit/537.36 (KHTML, like Gecko) Chrome/120.0.0.0 Safari/537.36'\n",
    "    }\n",
    "\n",
    "    response = requests.get(url, headers=headers)\n",
    "    return response.text"
   ]
  },
  {
   "cell_type": "code",
   "execution_count": 41,
   "metadata": {},
   "outputs": [],
   "source": [
    "from langchain.tools import tool\n",
    "from langchain.text_splitter import CharacterTextSplitter\n",
    "from langchain.embeddings import OpenAIEmbeddings\n",
    "from langchain_community.vectorstores import FAISS\n",
    "from unstructured.partition.html import partition_html\n",
    "\n",
    "def __embedding_search(url, ask):\n",
    "    text = __download_form_html(url)\n",
    "    elements = partition_html(text=text)\n",
    "    content = \"\\n\".join([str(el) for el in elements])\n",
    "    text_splitter = CharacterTextSplitter(\n",
    "        separator = \"\\n\",\n",
    "        chunk_size = 1000,\n",
    "        chunk_overlap  = 150,\n",
    "        length_function = len,\n",
    "        is_separator_regex = False,\n",
    "    )\n",
    "    docs = text_splitter.create_documents([content])\n",
    "    retriever = FAISS.from_documents(\n",
    "      docs, OpenAIEmbeddings()\n",
    "    ).as_retriever()\n",
    "    answers = retriever.get_relevant_documents(ask, top_k=4)\n",
    "    answers = \"\\n\\n\".join([a.page_content for a in answers])\n",
    "    return answers"
   ]
  },
  {
   "cell_type": "code",
   "execution_count": 43,
   "metadata": {},
   "outputs": [
    {
     "name": "stderr",
     "output_type": "stream",
     "text": [
      "[nltk_data] Downloading package punkt to\n",
      "[nltk_data]     /Users/deepakmishra/nltk_data...\n",
      "[nltk_data]   Unzipping tokenizers/punkt.zip.\n",
      "[nltk_data] Downloading package averaged_perceptron_tagger to\n",
      "[nltk_data]     /Users/deepakmishra/nltk_data...\n",
      "[nltk_data]   Unzipping taggers/averaged_perceptron_tagger.zip.\n",
      "Created a chunk of size 1993, which is longer than the specified 1000\n",
      "Created a chunk of size 1863, which is longer than the specified 1000\n",
      "Created a chunk of size 1813, which is longer than the specified 1000\n",
      "Created a chunk of size 1146, which is longer than the specified 1000\n",
      "Created a chunk of size 1141, which is longer than the specified 1000\n",
      "Created a chunk of size 1014, which is longer than the specified 1000\n",
      "Created a chunk of size 1146, which is longer than the specified 1000\n",
      "Created a chunk of size 1147, which is longer than the specified 1000\n",
      "Created a chunk of size 1244, which is longer than the specified 1000\n",
      "Created a chunk of size 1323, which is longer than the specified 1000\n",
      "Created a chunk of size 1163, which is longer than the specified 1000\n",
      "Created a chunk of size 1095, which is longer than the specified 1000\n",
      "Created a chunk of size 1557, which is longer than the specified 1000\n",
      "/Users/deepakmishra/.pyenv/versions/3.10.14/envs/denv/lib/python3.10/site-packages/langchain_core/_api/deprecation.py:139: LangChainDeprecationWarning: The class `OpenAIEmbeddings` was deprecated in LangChain 0.0.9 and will be removed in 0.3.0. An updated version of the class exists in the langchain-openai package and should be used instead. To use it run `pip install -U langchain-openai` and import as `from langchain_openai import OpenAIEmbeddings`.\n",
      "  warn_deprecated(\n",
      "/Users/deepakmishra/.pyenv/versions/3.10.14/envs/denv/lib/python3.10/site-packages/langchain_core/_api/deprecation.py:139: LangChainDeprecationWarning: The method `BaseRetriever.get_relevant_documents` was deprecated in langchain-core 0.1.46 and will be removed in 0.3.0. Use invoke instead.\n",
      "  warn_deprecated(\n"
     ]
    }
   ],
   "source": [
    "link = fillings[0]['linkToFilingDetails']\n",
    "ask = \"what was last year's revenue\"\n",
    "answer = __embedding_search(link, ask)"
   ]
  },
  {
   "cell_type": "code",
   "execution_count": 44,
   "metadata": {},
   "outputs": [
    {
     "data": {
      "text/plain": [
       "'Total constant currency revenues, which exclude the effect of hedging, increased 16% year over year.\\nCost of revenues was $33.7 billion, an increase of 10% year over year, primarily driven by increases in TAC, content acquisition costs, and depreciation expense. These increases were partially offset by decreases in compensation expenses, largely the result of a reduction in employee severance and related charges, and charges related to our office space optimization efforts.\\nOperating expenses were $21.4 billion, a decrease of 2% year over year, primarily driven by decreases in charges related to our office space optimization efforts, compensation expenses, largely the result of a reduction in employee severance and related charges, and charges related to legal matters. These decreases were partially offset by an increase in depreciation expense.\\n32\\nOther Information\\n\\nAs of March\\xa031, 2024, we had 180,895 employees.\\nFinancial Results\\nRevenues\\nThe following table presents revenues by type (in millions):\\nThree Months Ended March 31, 2023 2024 Google Search & other $ 40,359 $ 46,156 YouTube ads 6,693 8,090 Google Network 7,496 7,413 Google advertising 54,548 61,659 Google subscriptions, platforms, and devices 7,413 8,739 Google Services total 61,961 70,398 Google Cloud 7,454 9,574 Other Bets 288 495 Hedging gains (losses) 84 72 Total revenues $ 69,787 $ 80,539\\nGoogle Services\\nGoogle advertising revenues\\nGoogle Search & other\\nGoogle Search & other revenues increased $5.8 billion from the three months ended March 31, 2023 to the three months ended March 31, 2024. The overall growth was driven by interrelated factors including increases in search queries resulting from growth in user adoption and usage on mobile devices; growth in advertiser spending; and improvements we have made in ad formats and delivery.\\nYouTube ads\\n\\nExecutive Overview\\nThe following table summarizes our consolidated financial results (in millions, except per share information and percentages):\\nThree Months Ended March 31, 2023 2024 $ Change % Change Consolidated revenues $ 69,787 $ 80,539 $ 10,752 15 % Change in consolidated constant currency revenues (1) 16 %  Cost of revenues $ 30,612 $ 33,712 $ 3,100 10 % Operating expenses $ 21,760 $ 21,355 $ (405) (2) %  Operating income $ 17,415 $ 25,472 $ 8,057 46 % Operating margin 25 % 32 % 7 %  Other income (expense), net $ 790 $ 2,843 $ 2,053 260 %  Net Income $ 15,051 $ 23,662 $ 8,611 57 % Diluted EPS $ 1.17 $ 1.89 $ 0.72 62 %\\n(1)\\nSee \"Use of Non-GAAP Constant Currency Measures\" below for details relating to our use of constant currency information.\\nRevenues were $80.5 billion, an increase of 15% year over year, primarily driven by an increase in Google Services revenues of $8.4 billion, or 14%, and an increase in Google Cloud revenues of $2.1 billion, or 28%.\\n\\nRevenues and Monetization Metrics\\nWe generate revenues by delivering relevant, cost-effective online advertising; cloud-based solutions that provide enterprise customers of all sizes with infrastructure and platform services as well as communication and collaboration tools; sales of other products and services, such as fees received for subscription-based products, apps and in-app purchases, and devices. For additional information on how we recognize revenue, see Note 1 of the Notes to Consolidated Financial Statements included in Part II, Item 8 in our Annual Report on Form 10-K for the fiscal year ended December\\xa031, 2023.\\nIn addition to the long-term trends and their financial effect on our business discussed in \"Trends in Our Business and Financial Effect\" in Part II, Item 7 of our Annual Report on Form 10-K for the fiscal year ended December\\xa031, 2023, fluctuations in our revenues have been and may continue to be affected by a combination of factors, including:'"
      ]
     },
     "execution_count": 44,
     "metadata": {},
     "output_type": "execute_result"
    }
   ],
   "source": [
    "answer"
   ]
  },
  {
   "cell_type": "code",
   "execution_count": 11,
   "metadata": {},
   "outputs": [
    {
     "name": "stdout",
     "output_type": "stream",
     "text": [
      "Using Tool: Read website content\n",
      "Over ons - Mobile Water\n",
      "Home\n",
      "Nova One Technology\n",
      "Conversational\n",
      "Chatbots\n",
      "Darwin Platform\n",
      "Messaging\n",
      "Bulk Manager\n",
      "Incident Manager\n",
      "Messaging Gateway\n",
      "Short Link Manager\n",
      "Fulfilment SMS Manager\n",
      "RCS\n",
      "UX Management\n",
      "Page Manager\n",
      "Event Store\n",
      "Our work\n",
      "About us\n",
      "Contact\n",
      "Liveshare\n",
      "Selecteer een pagina\n",
      "Bel ons (085-0607041)\n",
      "E-mail ons\n",
      "Volgen\n",
      "Onze digitale koers\n",
      "Al 12 jaar varen we onze eigen digitale koers onder de naam Mobile Water.\n",
      "Onze passie voor digitale interactie gaat echter veel verder terug in de tijd. We stonden aan de wieg van mobile messaging en hebben expertise opgebouwd om digitale ervaringen die raken en luisteren te creëren, ondersteund door ons eigen AI-platform Nova One. Nu ruim 20 jaar later, bewegen we ons nog altijd in de digitale sector, als een vis in het water!\n",
      "Marcel Dijkgraaf\n",
      "CEO – Head of Technology\n",
      "marcel.dijkgraaf@mobilewater.nl\n",
      "Pim den Uyl\n",
      "Sales Director\n",
      "pim.den.uyl@mobilewater.nl\n",
      "Jeroen Kok\n",
      "Business Development\n",
      "jeroen.kok@mobilewater.nl\n",
      "Kunal Prasad\n",
      "Product Owner – Nova One\n",
      "kunal.prasad@nova-one.ai\n",
      "Florian Verhoef\n",
      "Creative Lead – UX/UI Designer\n",
      "florian.verhoef@mobilewater.nl\n",
      "Kevin Elshout\n",
      "Lead Developer\n",
      "Frank van Rotterdam\n",
      "Management & Development\n",
      "frank.van.rotterdam@mobilewater.nl\n",
      "Evelien Close\n",
      "Conversation Designer\n",
      "info@mobilewater.nl085 060 7041\n",
      "Ceresstraat 13 4811 CA Breda\n",
      "Ook zoveel te vertellen? 👋\n",
      "Spannende ontwikkelingen! Nieuwe ideeën? Waar ben jij de laatste tijd mee bezig geweest? Wij zijn heel benieuwd.\n",
      "Plan een meeting\n",
      "Stuur e-mail\n",
      "Chat met ons\n",
      "Mobile Water\n",
      "Nova One\n",
      "Portfolio\n",
      "Conversational Marketing\n",
      "Technology\n",
      "Over ons\n",
      "Contact\n",
      "Nova One Technology\n",
      "Nieuws\n",
      "Rework-23\n",
      "Liveshare\n",
      "Mobile Water BV - KVK 52540979 - BTW NL850491083B01\n",
      "English\t\t\t\t\n",
      "Nederlands\t\t\t\t\t \n",
      "English \n",
      "We gebruiken cookies om ervoor te zorgen dat onze site zo soepel mogelijk draait. Als je doorgaat met het gebruiken van deze site, gaan we ervan uit dat je ermee instemt.Akkoord\n"
     ]
    }
   ],
   "source": [
    "from crewai_tools import ScrapeWebsiteTool\n",
    "\n",
    "# To enable scrapping any website it finds during it's execution\n",
    "tool = ScrapeWebsiteTool()\n",
    "\n",
    "# Initialize the tool with the website URL, so the agent can only scrap the content of the specified website\n",
    "tool = ScrapeWebsiteTool(website_url='https://mobilewater.nl/en/over-ons/')\n",
    "\n",
    "# Extract the text from the site\n",
    "text = tool.run()\n",
    "print(text)"
   ]
  },
  {
   "cell_type": "code",
   "execution_count": 12,
   "metadata": {},
   "outputs": [
    {
     "ename": "OSError",
     "evalue": "[Errno 63] File name too long: 'Over ons - Mobile Water\\nHome\\nNova One Technology\\nConversational\\nChatbots\\nDarwin Platform\\nMessaging\\nBulk Manager\\nIncident Manager\\nMessaging Gateway\\nShort Link Manager\\nFulfilment SMS Manager\\nRCS\\nUX Management\\nPage Manager\\nEvent Store\\nOur work\\nAbout us\\nContact\\nLiveshare\\nSelecteer een pagina\\nBel ons\\xa0(085-0607041)\\nE-mail ons\\nVolgen\\nOnze digitale koers\\nAl 12 jaar varen we onze eigen digitale koers onder de naam Mobile Water.\\nOnze passie voor digitale interactie gaat echter veel verder terug in de tijd. We stonden aan de wieg van mobile messaging en hebben expertise opgebouwd om digitale ervaringen die raken en luisteren te creëren, ondersteund door ons eigen AI-platform Nova One. Nu ruim 20 jaar later, bewegen we ons nog altijd in de digitale sector, als een vis in het water!\\nMarcel Dijkgraaf\\nCEO – Head of Technology\\nmarcel.dijkgraaf@mobilewater.nl\\nPim den Uyl\\nSales Director\\npim.den.uyl@mobilewater.nl\\nJeroen Kok\\nBusiness Development\\njeroen.kok@mobilewater.nl\\nKunal Prasad\\nProduct Owner – Nova One\\nkunal.prasad@nova-one.ai\\nFlorian Verhoef\\nCreative Lead – UX/UI Designer\\nflorian.verhoef@mobilewater.nl\\nKevin Elshout\\nLead Developer\\nFrank van Rotterdam\\nManagement & Development\\nfrank.van.rotterdam@mobilewater.nl\\nEvelien Close\\nConversation Designer\\ninfo@mobilewater.nl085 060 7041\\nCeresstraat 13 4811 CA Breda\\nOok zoveel te vertellen? 👋\\nSpannende ontwikkelingen!\\xa0Nieuwe ideeën? Waar ben jij de laatste tijd mee bezig geweest?\\xa0Wij zijn heel benieuwd.\\nPlan een meeting\\nStuur e-mail\\nChat met ons\\nMobile Water\\nNova One\\nPortfolio\\nConversational Marketing\\nTechnology\\nOver ons\\nContact\\nNova One Technology\\nNieuws\\nRework-23\\nLiveshare\\nMobile Water BV - KVK 52540979 - BTW NL850491083B01\\nEnglish\\t\\t\\t\\t\\nNederlands\\t\\t\\t\\t\\t \\nEnglish \\nWe gebruiken cookies om ervoor te zorgen dat onze site zo soepel mogelijk draait. Als je doorgaat met het gebruiken van deze site, gaan we ervan uit dat je ermee instemt.Akkoord'",
     "output_type": "error",
     "traceback": [
      "\u001b[0;31m---------------------------------------------------------------------------\u001b[0m",
      "\u001b[0;31mOSError\u001b[0m                                   Traceback (most recent call last)",
      "Cell \u001b[0;32mIn[12], line 4\u001b[0m\n\u001b[1;32m      1\u001b[0m \u001b[38;5;28;01mfrom\u001b[39;00m \u001b[38;5;21;01munstructured\u001b[39;00m\u001b[38;5;21;01m.\u001b[39;00m\u001b[38;5;21;01mpartition\u001b[39;00m\u001b[38;5;21;01m.\u001b[39;00m\u001b[38;5;21;01mhtml\u001b[39;00m \u001b[38;5;28;01mimport\u001b[39;00m partition_html\n\u001b[1;32m      3\u001b[0m \u001b[38;5;66;03m#elements = text.split()\u001b[39;00m\n\u001b[0;32m----> 4\u001b[0m elements \u001b[38;5;241m=\u001b[39m \u001b[43mpartition_html\u001b[49m\u001b[43m(\u001b[49m\u001b[43mtext\u001b[49m\u001b[43m)\u001b[49m\n\u001b[1;32m      5\u001b[0m content \u001b[38;5;241m=\u001b[39m \u001b[38;5;124m\"\u001b[39m\u001b[38;5;130;01m\\n\u001b[39;00m\u001b[38;5;130;01m\\n\u001b[39;00m\u001b[38;5;124m\"\u001b[39m\u001b[38;5;241m.\u001b[39mjoin([\u001b[38;5;28mstr\u001b[39m(el) \u001b[38;5;28;01mfor\u001b[39;00m el \u001b[38;5;129;01min\u001b[39;00m elements])\n\u001b[1;32m      6\u001b[0m content\n",
      "File \u001b[0;32m~/.pyenv/versions/3.10.14/envs/denv/lib/python3.10/site-packages/unstructured/documents/elements.py:593\u001b[0m, in \u001b[0;36mprocess_metadata.<locals>.decorator.<locals>.wrapper\u001b[0;34m(*args, **kwargs)\u001b[0m\n\u001b[1;32m    591\u001b[0m \u001b[38;5;129m@functools\u001b[39m\u001b[38;5;241m.\u001b[39mwraps(func)\n\u001b[1;32m    592\u001b[0m \u001b[38;5;28;01mdef\u001b[39;00m \u001b[38;5;21mwrapper\u001b[39m(\u001b[38;5;241m*\u001b[39margs: _P\u001b[38;5;241m.\u001b[39margs, \u001b[38;5;241m*\u001b[39m\u001b[38;5;241m*\u001b[39mkwargs: _P\u001b[38;5;241m.\u001b[39mkwargs) \u001b[38;5;241m-\u001b[39m\u001b[38;5;241m>\u001b[39m \u001b[38;5;28mlist\u001b[39m[Element]:\n\u001b[0;32m--> 593\u001b[0m     elements \u001b[38;5;241m=\u001b[39m \u001b[43mfunc\u001b[49m\u001b[43m(\u001b[49m\u001b[38;5;241;43m*\u001b[39;49m\u001b[43margs\u001b[49m\u001b[43m,\u001b[49m\u001b[43m \u001b[49m\u001b[38;5;241;43m*\u001b[39;49m\u001b[38;5;241;43m*\u001b[39;49m\u001b[43mkwargs\u001b[49m\u001b[43m)\u001b[49m\n\u001b[1;32m    594\u001b[0m     call_args \u001b[38;5;241m=\u001b[39m get_call_args_applying_defaults(func, \u001b[38;5;241m*\u001b[39margs, \u001b[38;5;241m*\u001b[39m\u001b[38;5;241m*\u001b[39mkwargs)\n\u001b[1;32m    596\u001b[0m     regex_metadata: \u001b[38;5;28mdict\u001b[39m[\u001b[38;5;124m\"\u001b[39m\u001b[38;5;124mstr\u001b[39m\u001b[38;5;124m\"\u001b[39m, \u001b[38;5;124m\"\u001b[39m\u001b[38;5;124mstr\u001b[39m\u001b[38;5;124m\"\u001b[39m] \u001b[38;5;241m=\u001b[39m call_args\u001b[38;5;241m.\u001b[39mget(\u001b[38;5;124m\"\u001b[39m\u001b[38;5;124mregex_metadata\u001b[39m\u001b[38;5;124m\"\u001b[39m, {})\n",
      "File \u001b[0;32m~/.pyenv/versions/3.10.14/envs/denv/lib/python3.10/site-packages/unstructured/file_utils/filetype.py:626\u001b[0m, in \u001b[0;36madd_filetype.<locals>.decorator.<locals>.wrapper\u001b[0;34m(*args, **kwargs)\u001b[0m\n\u001b[1;32m    624\u001b[0m \u001b[38;5;129m@functools\u001b[39m\u001b[38;5;241m.\u001b[39mwraps(func)\n\u001b[1;32m    625\u001b[0m \u001b[38;5;28;01mdef\u001b[39;00m \u001b[38;5;21mwrapper\u001b[39m(\u001b[38;5;241m*\u001b[39margs: _P\u001b[38;5;241m.\u001b[39margs, \u001b[38;5;241m*\u001b[39m\u001b[38;5;241m*\u001b[39mkwargs: _P\u001b[38;5;241m.\u001b[39mkwargs) \u001b[38;5;241m-\u001b[39m\u001b[38;5;241m>\u001b[39m List[Element]:\n\u001b[0;32m--> 626\u001b[0m     elements \u001b[38;5;241m=\u001b[39m \u001b[43mfunc\u001b[49m\u001b[43m(\u001b[49m\u001b[38;5;241;43m*\u001b[39;49m\u001b[43margs\u001b[49m\u001b[43m,\u001b[49m\u001b[43m \u001b[49m\u001b[38;5;241;43m*\u001b[39;49m\u001b[38;5;241;43m*\u001b[39;49m\u001b[43mkwargs\u001b[49m\u001b[43m)\u001b[49m\n\u001b[1;32m    627\u001b[0m     params \u001b[38;5;241m=\u001b[39m get_call_args_applying_defaults(func, \u001b[38;5;241m*\u001b[39margs, \u001b[38;5;241m*\u001b[39m\u001b[38;5;241m*\u001b[39mkwargs)\n\u001b[1;32m    628\u001b[0m     include_metadata \u001b[38;5;241m=\u001b[39m params\u001b[38;5;241m.\u001b[39mget(\u001b[38;5;124m\"\u001b[39m\u001b[38;5;124minclude_metadata\u001b[39m\u001b[38;5;124m\"\u001b[39m, \u001b[38;5;28;01mTrue\u001b[39;00m)\n",
      "File \u001b[0;32m~/.pyenv/versions/3.10.14/envs/denv/lib/python3.10/site-packages/unstructured/file_utils/filetype.py:582\u001b[0m, in \u001b[0;36madd_metadata.<locals>.wrapper\u001b[0;34m(*args, **kwargs)\u001b[0m\n\u001b[1;32m    580\u001b[0m \u001b[38;5;129m@functools\u001b[39m\u001b[38;5;241m.\u001b[39mwraps(func)\n\u001b[1;32m    581\u001b[0m \u001b[38;5;28;01mdef\u001b[39;00m \u001b[38;5;21mwrapper\u001b[39m(\u001b[38;5;241m*\u001b[39margs: _P\u001b[38;5;241m.\u001b[39margs, \u001b[38;5;241m*\u001b[39m\u001b[38;5;241m*\u001b[39mkwargs: _P\u001b[38;5;241m.\u001b[39mkwargs) \u001b[38;5;241m-\u001b[39m\u001b[38;5;241m>\u001b[39m List[Element]:\n\u001b[0;32m--> 582\u001b[0m     elements \u001b[38;5;241m=\u001b[39m \u001b[43mfunc\u001b[49m\u001b[43m(\u001b[49m\u001b[38;5;241;43m*\u001b[39;49m\u001b[43margs\u001b[49m\u001b[43m,\u001b[49m\u001b[43m \u001b[49m\u001b[38;5;241;43m*\u001b[39;49m\u001b[38;5;241;43m*\u001b[39;49m\u001b[43mkwargs\u001b[49m\u001b[43m)\u001b[49m\n\u001b[1;32m    583\u001b[0m     call_args \u001b[38;5;241m=\u001b[39m get_call_args_applying_defaults(func, \u001b[38;5;241m*\u001b[39margs, \u001b[38;5;241m*\u001b[39m\u001b[38;5;241m*\u001b[39mkwargs)\n\u001b[1;32m    584\u001b[0m     include_metadata \u001b[38;5;241m=\u001b[39m call_args\u001b[38;5;241m.\u001b[39mget(\u001b[38;5;124m\"\u001b[39m\u001b[38;5;124minclude_metadata\u001b[39m\u001b[38;5;124m\"\u001b[39m, \u001b[38;5;28;01mTrue\u001b[39;00m)\n",
      "File \u001b[0;32m~/.pyenv/versions/3.10.14/envs/denv/lib/python3.10/site-packages/unstructured/chunking/dispatch.py:74\u001b[0m, in \u001b[0;36madd_chunking_strategy.<locals>.wrapper\u001b[0;34m(*args, **kwargs)\u001b[0m\n\u001b[1;32m     71\u001b[0m \u001b[38;5;250m\u001b[39m\u001b[38;5;124;03m\"\"\"The decorated function is replaced with this one.\"\"\"\u001b[39;00m\n\u001b[1;32m     73\u001b[0m \u001b[38;5;66;03m# -- call the partitioning function to get the elements --\u001b[39;00m\n\u001b[0;32m---> 74\u001b[0m elements \u001b[38;5;241m=\u001b[39m \u001b[43mfunc\u001b[49m\u001b[43m(\u001b[49m\u001b[38;5;241;43m*\u001b[39;49m\u001b[43margs\u001b[49m\u001b[43m,\u001b[49m\u001b[43m \u001b[49m\u001b[38;5;241;43m*\u001b[39;49m\u001b[38;5;241;43m*\u001b[39;49m\u001b[43mkwargs\u001b[49m\u001b[43m)\u001b[49m\n\u001b[1;32m     76\u001b[0m \u001b[38;5;66;03m# -- look for a chunking-strategy argument --\u001b[39;00m\n\u001b[1;32m     77\u001b[0m call_args \u001b[38;5;241m=\u001b[39m get_call_args_applying_defaults(func, \u001b[38;5;241m*\u001b[39margs, \u001b[38;5;241m*\u001b[39m\u001b[38;5;241m*\u001b[39mkwargs)\n",
      "File \u001b[0;32m~/.pyenv/versions/3.10.14/envs/denv/lib/python3.10/site-packages/unstructured/partition/html/partition.py:103\u001b[0m, in \u001b[0;36mpartition_html\u001b[0;34m(filename, file, text, encoding, url, headers, ssl_verify, date_from_file_object, detect_language_per_element, languages, metadata_last_modified, skip_headers_and_footers, detection_origin, **kwargs)\u001b[0m\n\u001b[1;32m     87\u001b[0m     \u001b[38;5;28;01mreturn\u001b[39;00m []\n\u001b[1;32m     89\u001b[0m opts \u001b[38;5;241m=\u001b[39m HtmlPartitionerOptions(\n\u001b[1;32m     90\u001b[0m     file_path\u001b[38;5;241m=\u001b[39mfilename,\n\u001b[1;32m     91\u001b[0m     file\u001b[38;5;241m=\u001b[39mfile,\n\u001b[0;32m   (...)\u001b[0m\n\u001b[1;32m    100\u001b[0m     detection_origin\u001b[38;5;241m=\u001b[39mdetection_origin,\n\u001b[1;32m    101\u001b[0m )\n\u001b[0;32m--> 103\u001b[0m document \u001b[38;5;241m=\u001b[39m \u001b[43mHTMLDocument\u001b[49m\u001b[38;5;241;43m.\u001b[39;49m\u001b[43mload\u001b[49m\u001b[43m(\u001b[49m\u001b[43mopts\u001b[49m\u001b[43m)\u001b[49m\n\u001b[1;32m    105\u001b[0m elements \u001b[38;5;241m=\u001b[39m \u001b[38;5;28mlist\u001b[39m(\n\u001b[1;32m    106\u001b[0m     apply_lang_metadata(\n\u001b[1;32m    107\u001b[0m         document\u001b[38;5;241m.\u001b[39melements,\n\u001b[0;32m   (...)\u001b[0m\n\u001b[1;32m    110\u001b[0m     )\n\u001b[1;32m    111\u001b[0m )\n\u001b[1;32m    113\u001b[0m \u001b[38;5;28;01mreturn\u001b[39;00m elements\n",
      "File \u001b[0;32m~/.pyenv/versions/3.10.14/envs/denv/lib/python3.10/site-packages/unstructured/documents/html.py:60\u001b[0m, in \u001b[0;36mHTMLDocument.load\u001b[0;34m(cls, opts)\u001b[0m\n\u001b[1;32m     57\u001b[0m \u001b[38;5;129m@classmethod\u001b[39m\n\u001b[1;32m     58\u001b[0m \u001b[38;5;28;01mdef\u001b[39;00m \u001b[38;5;21mload\u001b[39m(\u001b[38;5;28mcls\u001b[39m, opts: HtmlPartitionerOptions) \u001b[38;5;241m-\u001b[39m\u001b[38;5;241m>\u001b[39m HTMLDocument:\n\u001b[1;32m     59\u001b[0m \u001b[38;5;250m    \u001b[39m\u001b[38;5;124;03m\"\"\"Construct instance from whatever source is specified in `opts`.\"\"\"\u001b[39;00m\n\u001b[0;32m---> 60\u001b[0m     \u001b[38;5;28;01mreturn\u001b[39;00m \u001b[38;5;28mcls\u001b[39m(\u001b[43mopts\u001b[49m\u001b[38;5;241;43m.\u001b[39;49m\u001b[43mhtml_text\u001b[49m, opts)\n",
      "File \u001b[0;32m~/.pyenv/versions/3.10.14/envs/denv/lib/python3.10/site-packages/unstructured/utils.py:187\u001b[0m, in \u001b[0;36mlazyproperty.__get__\u001b[0;34m(self, obj, type)\u001b[0m\n\u001b[1;32m    182\u001b[0m value \u001b[38;5;241m=\u001b[39m obj\u001b[38;5;241m.\u001b[39m\u001b[38;5;18m__dict__\u001b[39m\u001b[38;5;241m.\u001b[39mget(\u001b[38;5;28mself\u001b[39m\u001b[38;5;241m.\u001b[39m_name)\n\u001b[1;32m    183\u001b[0m \u001b[38;5;28;01mif\u001b[39;00m value \u001b[38;5;129;01mis\u001b[39;00m \u001b[38;5;28;01mNone\u001b[39;00m:\n\u001b[1;32m    184\u001b[0m     \u001b[38;5;66;03m# --- on first access, the __dict__ item will be absent. Evaluate fget()\u001b[39;00m\n\u001b[1;32m    185\u001b[0m     \u001b[38;5;66;03m# --- and store that value in the (otherwise unused) host-object\u001b[39;00m\n\u001b[1;32m    186\u001b[0m     \u001b[38;5;66;03m# --- __dict__ value of same name ('fget' nominally)\u001b[39;00m\n\u001b[0;32m--> 187\u001b[0m     value \u001b[38;5;241m=\u001b[39m \u001b[38;5;28;43mself\u001b[39;49m\u001b[38;5;241;43m.\u001b[39;49m\u001b[43m_fget\u001b[49m\u001b[43m(\u001b[49m\u001b[43mobj\u001b[49m\u001b[43m)\u001b[49m\n\u001b[1;32m    188\u001b[0m     obj\u001b[38;5;241m.\u001b[39m\u001b[38;5;18m__dict__\u001b[39m[\u001b[38;5;28mself\u001b[39m\u001b[38;5;241m.\u001b[39m_name] \u001b[38;5;241m=\u001b[39m value\n\u001b[1;32m    189\u001b[0m \u001b[38;5;28;01mreturn\u001b[39;00m cast(_T, value)\n",
      "File \u001b[0;32m~/.pyenv/versions/3.10.14/envs/denv/lib/python3.10/site-packages/unstructured/partition/html/partition.py:163\u001b[0m, in \u001b[0;36mHtmlPartitionerOptions.html_text\u001b[0;34m(self)\u001b[0m\n\u001b[1;32m    161\u001b[0m \u001b[38;5;250m\u001b[39m\u001b[38;5;124;03m\"\"\"The HTML document as a string, loaded from wherever the caller specified.\"\"\"\u001b[39;00m\n\u001b[1;32m    162\u001b[0m \u001b[38;5;28;01mif\u001b[39;00m \u001b[38;5;28mself\u001b[39m\u001b[38;5;241m.\u001b[39m_file_path:\n\u001b[0;32m--> 163\u001b[0m     \u001b[38;5;28;01mreturn\u001b[39;00m \u001b[43mread_txt_file\u001b[49m\u001b[43m(\u001b[49m\u001b[43mfilename\u001b[49m\u001b[38;5;241;43m=\u001b[39;49m\u001b[38;5;28;43mself\u001b[39;49m\u001b[38;5;241;43m.\u001b[39;49m\u001b[43m_file_path\u001b[49m\u001b[43m,\u001b[49m\u001b[43m \u001b[49m\u001b[43mencoding\u001b[49m\u001b[38;5;241;43m=\u001b[39;49m\u001b[38;5;28;43mself\u001b[39;49m\u001b[38;5;241;43m.\u001b[39;49m\u001b[43m_encoding\u001b[49m\u001b[43m)\u001b[49m[\u001b[38;5;241m1\u001b[39m]\n\u001b[1;32m    165\u001b[0m \u001b[38;5;28;01mif\u001b[39;00m \u001b[38;5;28mself\u001b[39m\u001b[38;5;241m.\u001b[39m_file:\n\u001b[1;32m    166\u001b[0m     \u001b[38;5;28;01mreturn\u001b[39;00m read_txt_file(file\u001b[38;5;241m=\u001b[39m\u001b[38;5;28mself\u001b[39m\u001b[38;5;241m.\u001b[39m_file, encoding\u001b[38;5;241m=\u001b[39m\u001b[38;5;28mself\u001b[39m\u001b[38;5;241m.\u001b[39m_encoding)[\u001b[38;5;241m1\u001b[39m]\n",
      "File \u001b[0;32m~/.pyenv/versions/3.10.14/envs/denv/lib/python3.10/site-packages/unstructured/file_utils/encoding.py:123\u001b[0m, in \u001b[0;36mread_txt_file\u001b[0;34m(filename, file, encoding)\u001b[0m\n\u001b[1;32m    121\u001b[0m                 \u001b[38;5;28;01mraise\u001b[39;00m error\n\u001b[1;32m    122\u001b[0m     \u001b[38;5;28;01melse\u001b[39;00m:\n\u001b[0;32m--> 123\u001b[0m         formatted_encoding, file_text \u001b[38;5;241m=\u001b[39m \u001b[43mdetect_file_encoding\u001b[49m\u001b[43m(\u001b[49m\u001b[43mfilename\u001b[49m\u001b[43m)\u001b[49m\n\u001b[1;32m    124\u001b[0m \u001b[38;5;28;01melif\u001b[39;00m file:\n\u001b[1;32m    125\u001b[0m     \u001b[38;5;28;01mif\u001b[39;00m encoding:\n",
      "File \u001b[0;32m~/.pyenv/versions/3.10.14/envs/denv/lib/python3.10/site-packages/unstructured/file_utils/encoding.py:66\u001b[0m, in \u001b[0;36mdetect_file_encoding\u001b[0;34m(filename, file)\u001b[0m\n\u001b[1;32m     61\u001b[0m \u001b[38;5;28;01mdef\u001b[39;00m \u001b[38;5;21mdetect_file_encoding\u001b[39m(\n\u001b[1;32m     62\u001b[0m     filename: \u001b[38;5;28mstr\u001b[39m \u001b[38;5;241m=\u001b[39m \u001b[38;5;124m\"\u001b[39m\u001b[38;5;124m\"\u001b[39m,\n\u001b[1;32m     63\u001b[0m     file: Optional[Union[\u001b[38;5;28mbytes\u001b[39m, IO[\u001b[38;5;28mbytes\u001b[39m]]] \u001b[38;5;241m=\u001b[39m \u001b[38;5;28;01mNone\u001b[39;00m,\n\u001b[1;32m     64\u001b[0m ) \u001b[38;5;241m-\u001b[39m\u001b[38;5;241m>\u001b[39m Tuple[\u001b[38;5;28mstr\u001b[39m, \u001b[38;5;28mstr\u001b[39m]:\n\u001b[1;32m     65\u001b[0m     \u001b[38;5;28;01mif\u001b[39;00m filename:\n\u001b[0;32m---> 66\u001b[0m         \u001b[38;5;28;01mwith\u001b[39;00m \u001b[38;5;28;43mopen\u001b[39;49m\u001b[43m(\u001b[49m\u001b[43mfilename\u001b[49m\u001b[43m,\u001b[49m\u001b[43m \u001b[49m\u001b[38;5;124;43m\"\u001b[39;49m\u001b[38;5;124;43mrb\u001b[39;49m\u001b[38;5;124;43m\"\u001b[39;49m\u001b[43m)\u001b[49m \u001b[38;5;28;01mas\u001b[39;00m f:\n\u001b[1;32m     67\u001b[0m             byte_data \u001b[38;5;241m=\u001b[39m f\u001b[38;5;241m.\u001b[39mread()\n\u001b[1;32m     68\u001b[0m     \u001b[38;5;28;01melif\u001b[39;00m file:\n",
      "\u001b[0;31mOSError\u001b[0m: [Errno 63] File name too long: 'Over ons - Mobile Water\\nHome\\nNova One Technology\\nConversational\\nChatbots\\nDarwin Platform\\nMessaging\\nBulk Manager\\nIncident Manager\\nMessaging Gateway\\nShort Link Manager\\nFulfilment SMS Manager\\nRCS\\nUX Management\\nPage Manager\\nEvent Store\\nOur work\\nAbout us\\nContact\\nLiveshare\\nSelecteer een pagina\\nBel ons\\xa0(085-0607041)\\nE-mail ons\\nVolgen\\nOnze digitale koers\\nAl 12 jaar varen we onze eigen digitale koers onder de naam Mobile Water.\\nOnze passie voor digitale interactie gaat echter veel verder terug in de tijd. We stonden aan de wieg van mobile messaging en hebben expertise opgebouwd om digitale ervaringen die raken en luisteren te creëren, ondersteund door ons eigen AI-platform Nova One. Nu ruim 20 jaar later, bewegen we ons nog altijd in de digitale sector, als een vis in het water!\\nMarcel Dijkgraaf\\nCEO – Head of Technology\\nmarcel.dijkgraaf@mobilewater.nl\\nPim den Uyl\\nSales Director\\npim.den.uyl@mobilewater.nl\\nJeroen Kok\\nBusiness Development\\njeroen.kok@mobilewater.nl\\nKunal Prasad\\nProduct Owner – Nova One\\nkunal.prasad@nova-one.ai\\nFlorian Verhoef\\nCreative Lead – UX/UI Designer\\nflorian.verhoef@mobilewater.nl\\nKevin Elshout\\nLead Developer\\nFrank van Rotterdam\\nManagement & Development\\nfrank.van.rotterdam@mobilewater.nl\\nEvelien Close\\nConversation Designer\\ninfo@mobilewater.nl085 060 7041\\nCeresstraat 13 4811 CA Breda\\nOok zoveel te vertellen? 👋\\nSpannende ontwikkelingen!\\xa0Nieuwe ideeën? Waar ben jij de laatste tijd mee bezig geweest?\\xa0Wij zijn heel benieuwd.\\nPlan een meeting\\nStuur e-mail\\nChat met ons\\nMobile Water\\nNova One\\nPortfolio\\nConversational Marketing\\nTechnology\\nOver ons\\nContact\\nNova One Technology\\nNieuws\\nRework-23\\nLiveshare\\nMobile Water BV - KVK 52540979 - BTW NL850491083B01\\nEnglish\\t\\t\\t\\t\\nNederlands\\t\\t\\t\\t\\t \\nEnglish \\nWe gebruiken cookies om ervoor te zorgen dat onze site zo soepel mogelijk draait. Als je doorgaat met het gebruiken van deze site, gaan we ervan uit dat je ermee instemt.Akkoord'"
     ]
    }
   ],
   "source": [
    "from unstructured.partition.html import partition_html\n",
    "\n",
    "#elements = text.split()\n",
    "elements = partition_html(text)\n",
    "content = \"\\n\\n\".join([str(el) for el in elements])\n",
    "content"
   ]
  },
  {
   "cell_type": "code",
   "execution_count": 5,
   "metadata": {},
   "outputs": [
    {
     "data": {
      "text/plain": [
       "['Over\\n\\nons\\n\\n-\\n\\nMobile\\n\\nWater\\n\\nHome\\n\\nNova\\n\\nOne\\n\\nTechnology\\n\\nConversational\\n\\nChatbots\\n\\nDarwin\\n\\nPlatform\\n\\nMessaging\\n\\nBulk\\n\\nManager\\n\\nIncident\\n\\nManager\\n\\nMessaging\\n\\nGateway\\n\\nShort\\n\\nLink\\n\\nManager\\n\\nFulfilment\\n\\nSMS\\n\\nManager\\n\\nRCS\\n\\nUX\\n\\nManagement\\n\\nPage\\n\\nManager\\n\\nEvent\\n\\nStore\\n\\nOur\\n\\nwork\\n\\nAbout\\n\\nus\\n\\nContact\\n\\nLiveshare\\n\\nSelecteer\\n\\neen\\n\\npagina\\n\\nBel\\n\\nons\\n\\n(085-0607041)\\n\\nE-mail\\n\\nons\\n\\nVolgen\\n\\nOnze\\n\\ndigitale\\n\\nkoers\\n\\nAl\\n\\n12\\n\\njaar\\n\\nvaren\\n\\nwe\\n\\nonze\\n\\neigen\\n\\ndigitale\\n\\nkoers\\n\\nonder\\n\\nde\\n\\nnaam\\n\\nMobile\\n\\nWater.\\n\\nOnze\\n\\npassie\\n\\nvoor\\n\\ndigitale\\n\\ninteractie\\n\\ngaat\\n\\nechter\\n\\nveel\\n\\nverder\\n\\nterug\\n\\nin\\n\\nde\\n\\ntijd.\\n\\nWe\\n\\nstonden\\n\\naan\\n\\nde\\n\\nwieg\\n\\nvan\\n\\nmobile\\n\\nmessaging\\n\\nen\\n\\nhebben\\n\\nexpertise\\n\\nopgebouwd\\n\\nom\\n\\ndigitale\\n\\nervaringen\\n\\ndie\\n\\nraken\\n\\nen\\n\\nluisteren\\n\\nte\\n\\ncreëren,\\n\\nondersteund\\n\\ndoor\\n\\nons\\n\\neigen\\n\\nAI-platform\\n\\nNova\\n\\nOne.\\n\\nNu\\n\\nruim\\n\\n20\\n\\njaar\\n\\nlater,\\n\\nbewegen\\n\\nwe\\n\\nons\\n\\nnog\\n\\naltijd\\n\\nin\\n\\nde\\n\\ndigitale\\n\\nsector,\\n\\nals\\n\\neen\\n\\nvis\\n\\nin\\n\\nhet\\n\\nwater!\\n\\nMarcel\\n\\nDijkgraaf\\n\\nCEO\\n\\n–\\n\\nHead\\n\\nof\\n\\nTechnology\\n\\nmarcel.dijkgraaf@mobilewater.nl\\n\\nPim\\n\\nden\\n\\nUyl\\n\\nSales\\n\\nDirector\\n\\npim.den.uyl@mobilewater.nl\\n\\nJeroen\\n\\nKok\\n\\nBusiness\\n\\nDevelopment\\n\\njeroen.kok@mobilewater.nl\\n\\nKunal\\n\\nPrasad\\n\\nProduct\\n\\nOwner\\n\\n–\\n\\nNova\\n\\nOne\\n\\nkunal.prasad@nova-one.ai\\n\\nFlorian\\n\\nVerhoef\\n\\nCreative\\n\\nLead\\n\\n–\\n\\nUX/UI\\n\\nDesigner\\n\\nflorian.verhoef@mobilewater.nl\\n\\nKevin\\n\\nElshout\\n\\nLead\\n\\nDeveloper\\n\\nFrank\\n\\nvan\\n\\nRotterdam\\n\\nManagement\\n\\n&\\n\\nDevelopment\\n\\nfrank.van.rotterdam@mobilewater.nl\\n\\nEvelien\\n\\nClose\\n\\nConversation\\n\\nDesigner\\n\\ninfo@mobilewater.nl085\\n\\n060\\n\\n7041\\n\\nCeresstraat\\n\\n13\\n\\n4811\\n\\nCA\\n\\nBreda\\n\\nOok\\n\\nzoveel\\n\\nte\\n\\nvertellen?\\n\\n👋\\n\\nSpannende\\n\\nontwikkelingen!\\n\\nNieuwe\\n\\nideeën?\\n\\nWaar\\n\\nben\\n\\njij\\n\\nde\\n\\nlaatste\\n\\ntijd\\n\\nmee\\n\\nbezig\\n\\ngeweest?\\n\\nWij\\n\\nzijn\\n\\nheel\\n\\nbenieuwd.\\n\\nPlan\\n\\neen\\n\\nmeeting\\n\\nStuur\\n\\ne-mail\\n\\nChat\\n\\nmet\\n\\nons\\n\\nMobile\\n\\nWater\\n\\nNova\\n\\nOne\\n\\nPortfolio\\n\\nConversational\\n\\nMarketing\\n\\nTechnology\\n\\nOver\\n\\nons\\n\\nContact\\n\\nNova\\n\\nOne\\n\\nTechnology\\n\\nNieuws\\n\\nRework-23\\n\\nLiveshare\\n\\nMobile\\n\\nWater\\n\\nBV\\n\\n-\\n\\nKVK\\n\\n52540979\\n\\n-\\n\\nBTW\\n\\nNL850491083B01\\n\\nEnglish\\n\\nNederlands\\n\\nEnglish\\n\\nWe\\n\\ngebruiken\\n\\ncookies\\n\\nom\\n\\nervoor\\n\\nte\\n\\nzorgen\\n\\ndat\\n\\nonze\\n\\nsite\\n\\nzo\\n\\nsoepel\\n\\nmogelijk\\n\\ndraait.\\n\\nAls\\n\\nje\\n\\ndoorgaat\\n\\nmet\\n\\nhet\\n\\ngebruiken\\n\\nvan\\n\\ndeze\\n\\nsite,\\n\\ngaan\\n\\nwe\\n\\nervan\\n\\nuit\\n\\ndat\\n\\nje\\n\\nermee\\n\\ninstemt.Akkoord']"
      ]
     },
     "execution_count": 5,
     "metadata": {},
     "output_type": "execute_result"
    }
   ],
   "source": [
    "contents = [content[i:i + 8000] for i in range(0, len(content), 8000)]\n",
    "contents"
   ]
  },
  {
   "cell_type": "code",
   "execution_count": 7,
   "metadata": {},
   "outputs": [],
   "source": [
    "from crewai import Agent, Task\n",
    "\n",
    "summaries = []\n",
    "for chunk in contents:\n",
    "    agent = Agent(\n",
    "          role='Principal Researcher',\n",
    "          goal=\n",
    "          'Do amazing research and summaries based on the content you are working with',\n",
    "          backstory=\n",
    "          \"You're a Principal Researcher at a big company and you need to do research about a given topic.\",\n",
    "          allow_delegation=False)\n",
    "    task = Task(\n",
    "          agent=agent,\n",
    "          description=\n",
    "          f'Analyze and summarize the content below, make sure to include the most relevant information in the summary, return only the summary nothing else.\\n\\nCONTENT\\n----------\\n{chunk}',\n",
    "          expected_output='Give summary',\n",
    "      )\n",
    "    summary = task.execute()\n",
    "    summaries.append(summary)"
   ]
  },
  {
   "cell_type": "code",
   "execution_count": 8,
   "metadata": {},
   "outputs": [
    {
     "data": {
      "text/plain": [
       "['Mobile Water is a company with over 12 years of experience in the digital interaction sector, with roots going back over 20 years in mobile messaging. They have built expertise in creating impactful digital experiences supported by their AI platform Nova One. Key team members include CEO Marcel Dijkgraaf, Sales Director Pim den Uyl, Business Development Jeroen Kok, Product Owner Kunal Prasad, Creative Lead Florian Verhoef, Lead Developer Kevin Elshout, and Management & Development Frank van Rotterdam. They offer a range of services including conversational chatbots, bulk messaging, incident management, and more, with a focus on UX and digital engagement. Their office is located in Breda, and they invite interested parties to schedule meetings or contact them for more information.']"
      ]
     },
     "execution_count": 8,
     "metadata": {},
     "output_type": "execute_result"
    }
   ],
   "source": [
    "summaries"
   ]
  },
  {
   "cell_type": "code",
   "execution_count": 1,
   "metadata": {},
   "outputs": [
    {
     "name": "stderr",
     "output_type": "stream",
     "text": [
      "USER_AGENT environment variable not set, consider setting it to identify your requests.\n"
     ]
    }
   ],
   "source": [
    "#from langchain.tools.yahoo_finance_news import YahooFinanceNewsTool\n",
    "from langchain_community.tools.yahoo_finance_news import YahooFinanceNewsTool\n"
   ]
  },
  {
   "cell_type": "code",
   "execution_count": 6,
   "metadata": {},
   "outputs": [
    {
     "name": "stdout",
     "output_type": "stream",
     "text": [
      "\n",
      "\n",
      "\u001b[1m> Entering new AgentExecutor chain...\u001b[0m\n",
      "\u001b[32;1m\u001b[1;3mLet's find out what's happening with Microsoft stocks today.\n",
      "\n",
      "Thought: It would be useful to check the latest news about Microsoft (MSFT) to get an idea of how the market is reacting to any recent developments.\n",
      "\n",
      "Action: Use yahoo_finance_news\n",
      "Action Input: MSFT\u001b[0m\n",
      "Observation: Use yahoo_finance_news is not a valid tool, try one of [yahoo_finance_news].\n",
      "Thought:\u001b[32;1m\u001b[1;3mI apologize for the mistake!\n",
      "\n",
      "Thought: Let me try again. Since we want to find out what's happening with Microsoft stocks today, I'll use the correct tool.\n",
      "\n",
      "Action: Use yahoo_finance_news\n",
      "Action Input: MSFT\u001b[0m\n",
      "Observation: Use yahoo_finance_news is not a valid tool, try one of [yahoo_finance_news].\n",
      "Thought:\u001b[32;1m\u001b[1;3mI think I see where this is going!\n",
      "\n",
      "Thought: Wait, what's going on here? \n",
      "\n",
      "Action: Use\n",
      "Action Input: yahoo_finance_news\u001b[0m\n",
      "Observation: Use is not a valid tool, try one of [yahoo_finance_news].\n",
      "Thought:\u001b[32;1m\u001b[1;3mI can sense the frustration!\n",
      "\n",
      "Thought: Okay, let me think... I know what to do!\n",
      "\n",
      "Action: yahoo_finance_news\n",
      "Action Input: MSFT\u001b[0m\n",
      "Observation: \u001b[36;1m\u001b[1;3mNo news found for company that searched with MSFT ticker.\u001b[0m\n",
      "Thought:\u001b[32;1m\u001b[1;3mLet's continue from where we left off.\n",
      "\n",
      "Thought: Well, it seems like there was no recent news found for Microsoft (MSFT).\n",
      "\n",
      "Final Answer: There is no recent news available for Microsoft stocks today.\u001b[0m\n",
      "\n",
      "\u001b[1m> Finished chain.\u001b[0m\n"
     ]
    },
    {
     "data": {
      "text/plain": [
       "'There is no recent news available for Microsoft stocks today.'"
      ]
     },
     "execution_count": 6,
     "metadata": {},
     "output_type": "execute_result"
    }
   ],
   "source": [
    "from langchain.agents import AgentType, initialize_agent\n",
    "from langchain_community.tools.yahoo_finance_news import YahooFinanceNewsTool\n",
    "\n",
    "from langchain.llms import Ollama\n",
    "llm = Ollama(model=\"llama3\")\n",
    "tools = [YahooFinanceNewsTool()]\n",
    "agent_chain = initialize_agent(\n",
    "    tools,\n",
    "    llm,\n",
    "    agent=AgentType.ZERO_SHOT_REACT_DESCRIPTION,\n",
    "    verbose=True,\n",
    "    handle_parsing_errors=True\n",
    ")\n",
    "\n",
    "agent_chain.run(\n",
    "    \"What happens today with Microsoft stocks?\",\n",
    ")\n"
   ]
  },
  {
   "cell_type": "code",
   "execution_count": null,
   "metadata": {},
   "outputs": [],
   "source": []
  },
  {
   "cell_type": "code",
   "execution_count": null,
   "metadata": {},
   "outputs": [],
   "source": []
  }
 ],
 "metadata": {
  "kernelspec": {
   "display_name": "denv",
   "language": "python",
   "name": "python3"
  },
  "language_info": {
   "codemirror_mode": {
    "name": "ipython",
    "version": 3
   },
   "file_extension": ".py",
   "mimetype": "text/x-python",
   "name": "python",
   "nbconvert_exporter": "python",
   "pygments_lexer": "ipython3",
   "version": "3.10.14"
  }
 },
 "nbformat": 4,
 "nbformat_minor": 2
}
