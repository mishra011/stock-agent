{
 "cells": [
  {
   "cell_type": "code",
   "execution_count": 6,
   "metadata": {},
   "outputs": [
    {
     "data": {
      "text/plain": [
       "True"
      ]
     },
     "execution_count": 6,
     "metadata": {},
     "output_type": "execute_result"
    }
   ],
   "source": [
    "import json\n",
    "import os\n",
    "\n",
    "import requests\n",
    "from langchain.tools import tool\n",
    "from dotenv import load_dotenv\n",
    "load_dotenv()\n",
    "\n"
   ]
  },
  {
   "cell_type": "code",
   "execution_count": 13,
   "metadata": {},
   "outputs": [],
   "source": [
    "def search_internet(query):\n",
    "    url = \"https://google.serper.dev/search\"\n",
    "    payload = json.dumps({\"q\": query})\n",
    "    headers = {\n",
    "        'X-API-KEY': os.environ['SERPER_API_KEY'],\n",
    "        'content-type': 'application/json'\n",
    "    }\n",
    "    response = requests.request(\"POST\", url, headers=headers, data=payload)\n",
    "    return response"
   ]
  },
  {
   "cell_type": "code",
   "execution_count": 14,
   "metadata": {},
   "outputs": [],
   "source": [
    "response = search_internet(\"BMW\")"
   ]
  },
  {
   "cell_type": "code",
   "execution_count": 15,
   "metadata": {},
   "outputs": [
    {
     "data": {
      "text/plain": [
       "{'searchParameters': {'q': 'BMW', 'type': 'search', 'engine': 'google'},\n",
       " 'knowledgeGraph': {'title': 'Bayerische Motoren Werke AG',\n",
       "  'type': 'Luxury vehicles company',\n",
       "  'imageUrl': 'https://encrypted-tbn0.gstatic.com/images?q=tbn:ANd9GcSm7U2BJDwRbg0bfghu9V4ttun74eUtlDOSt8KtzSTK7PomdlTswB5wnA&s=0',\n",
       "  'description': 'Bayerische Motoren Werke AG, commonly abbreviated to BMW, is a German multinational manufacturer of luxury vehicles and motorcycles headquartered in Munich, Bavaria, Germany.',\n",
       "  'descriptionSource': 'Wikipedia',\n",
       "  'descriptionLink': 'https://en.wikipedia.org/wiki/BMW',\n",
       "  'attributes': {'Owners': 'Susanne Klatten and Stefan Quandt',\n",
       "   'Founders': 'Karl Rapp, Gustav Otto, Camillo Castiglioni, and more',\n",
       "   'Subsidiaries': 'BMW Motorrad, BMW M, Alpina, and more',\n",
       "   'Customer service': '1 (800) 831-1117',\n",
       "   'Revenue': '142.6\\xa0billion EUR (2022)'}},\n",
       " 'organic': [{'title': 'BMW USA: Luxury SUVs, Sedans, Coupes, Convertibles & Crossovers',\n",
       "   'link': 'https://www.bmwusa.com/',\n",
       "   'snippet': 'Explore models, build your own, and find local inventory from a nearby BMW Center. Experience the performance, luxury, and innovation of the Ultimate ...',\n",
       "   'sitelinks': [{'title': 'Build Your Own',\n",
       "     'link': 'https://www.bmwusa.com/build-your-own.html'},\n",
       "    {'title': 'All BMW Models',\n",
       "     'link': 'https://www.bmwusa.com/all-bmws.html'},\n",
       "    {'title': 'Shop Pre-Owned Inventory',\n",
       "     'link': 'https://www.bmwusa.com/certified-preowned-search.html'},\n",
       "    {'title': 'Shop New Inventory',\n",
       "     'link': 'https://www.bmwusa.com/inventory.html'},\n",
       "    {'title': 'Lease & Finance Offers',\n",
       "     'link': 'https://www.bmwusa.com/special-offers.html'}],\n",
       "   'position': 1},\n",
       "  {'title': 'Home | BMW Motorrad',\n",
       "   'link': 'https://www.bmwmotorcycles.com/en/home.html',\n",
       "   'snippet': 'Manage your BMW ID for all BMW Motorrad, BMW and MINI offers. My BMW Motorrad ... The BMW Motorrad Concept Link takes new, connected paths.',\n",
       "   'sitelinks': [{'title': 'All Models',\n",
       "     'link': 'https://www.bmwmotorcycles.com/en/models/modeloverview.html'},\n",
       "    {'title': 'My BMW',\n",
       "     'link': 'https://www.bmwmotorcycles.com/en/my-bmw-motorrad.html'},\n",
       "    {'title': 'Model selection',\n",
       "     'link': 'https://configurator.bmwmotorcycles.com/index_en_US.html?cookie=1'},\n",
       "    {'title': 'BMW Financial Services',\n",
       "     'link': 'https://www.bmwmotorcycles.com/en/financial-services/overview.html'}],\n",
       "   'position': 2},\n",
       "  {'title': 'BMW Group',\n",
       "   'link': 'https://www.bmwgroup.com/en.html',\n",
       "   'snippet': 'Welcome to the BMW Group. Our focus on the premium idea and the principle of sustainability appeals to people worldwide.',\n",
       "   'sitelinks': [{'title': 'Company',\n",
       "     'link': 'https://www.bmwgroup.com/en/company.html'},\n",
       "    {'title': 'The BMW Vision Neue Klasse X',\n",
       "     'link': 'https://www.bmwgroup.com/en/news/general/2024/bmw-vision-neue-klasse-x.html'},\n",
       "    {'title': 'Investor Relations',\n",
       "     'link': 'https://www.bmwgroup.com/en/investor-relations.html'},\n",
       "    {'title': 'Sustainability',\n",
       "     'link': 'https://www.bmwgroup.com/en/sustainability.html'}],\n",
       "   'position': 3},\n",
       "  {'title': 'BMW - Wikipedia',\n",
       "   'link': 'https://en.wikipedia.org/wiki/BMW',\n",
       "   'snippet': 'Bayerische Motoren Werke AG, commonly abbreviated to BMW is a German multinational manufacturer of luxury vehicles and motorcycles headquartered in Munich, ...',\n",
       "   'sitelinks': [{'title': 'History',\n",
       "     'link': 'https://en.wikipedia.org/wiki/History_of_BMW'},\n",
       "    {'title': 'BMW in the United States',\n",
       "     'link': 'https://en.wikipedia.org/wiki/BMW_in_the_United_States'},\n",
       "    {'title': 'List of BMW vehicles',\n",
       "     'link': 'https://en.wikipedia.org/wiki/List_of_BMW_vehicles'},\n",
       "    {'title': 'BMW Dixi', 'link': 'https://en.wikipedia.org/wiki/BMW_Dixi'}],\n",
       "   'position': 4},\n",
       "  {'title': 'BMW Motorrad: Home',\n",
       "   'link': 'https://www.bmw-motorrad.com/en/home.html',\n",
       "   'snippet': 'The BMW Motorrad Experience Hub: Experience the brand BMW Motorrad and be inspired by the #MakeLifeARide spirit.',\n",
       "   'position': 5},\n",
       "  {'title': 'BMW.com | The international BMW Website',\n",
       "   'link': 'https://www.bmw.com/en/index.html',\n",
       "   'snippet': 'Dive into new worlds with BMW, get inspired, and experience the unknown, the unusual and some useful things, too.',\n",
       "   'sitelinks': [{'title': 'About BMW.com',\n",
       "     'link': 'https://www.bmw.com/en/footer/about-bmw-com.html'},\n",
       "    {'title': 'Software Update',\n",
       "     'link': 'https://www.bmw.com/en/footer/software-updates.html'},\n",
       "    {'title': 'BMW i5',\n",
       "     'link': 'https://www.bmw.com/en/digital-journey/bmw-i5-helpful-features-for-everyday-life.html'},\n",
       "    {'title': 'BMW Podcasts',\n",
       "     'link': 'https://www.bmw.com/en/podcasts-overview.html'}],\n",
       "   'position': 6},\n",
       "  {'title': 'all models, colors, packages and prices - BMW Motorrad Configurator',\n",
       "   'link': 'https://configurator.bmwmotorcycles.com/index_en_US.html?cookie=1',\n",
       "   'snippet': 'The official BMW Motorrad NA Bike Configurator. Build your dream bike. View our current model range, find a retailer and test ride a BMW motorcycle today.',\n",
       "   'position': 7}],\n",
       " 'places': [{'title': 'Galleria BMW',\n",
       "   'address': \"D'Iberville, MS\",\n",
       "   'cid': '14727175524010725493'},\n",
       "  {'title': 'BMW of Des Moines',\n",
       "   'address': 'Urbandale, IA',\n",
       "   'cid': '7329217977428459589'},\n",
       "  {'title': 'BMW of Tulsa',\n",
       "   'address': 'Tulsa, OK',\n",
       "   'cid': '588775629214534741'}],\n",
       " 'peopleAlsoAsk': [{'question': 'What does BMW stand for?',\n",
       "   'snippet': \"Bayerische Motoren Werke Aktiengesellschaft\\nThe acronym BMW stands for Bayerische Motoren Werke GmbH, which roughly translates to the Bavarian Engine Works Company. The name harks back to the company's origin in the German state of Bavaria. It also indicates BMW's original product range: engines for various applications.\",\n",
       "   'title': 'How the BMW name was created',\n",
       "   'link': 'https://www.bmw.com/en/automotive-life/BMW-name-meaning-and-history.html'},\n",
       "  {'question': 'Is BMW German or British?',\n",
       "   'snippet': 'What Country is the BMW From? Many drivers look at the sleek European styling of these luxury vehicles and ask, “Where did BMW originate?” or “Is BMW German?” BMW is a German automaker, originating in Munich Germany, where it is still headquartered.',\n",
       "   'title': 'Is BMW a Foreign Car? | BMW of Peoria',\n",
       "   'link': 'https://www.bmwofpeoria.com/manufacturer-information/bmw-foreign-car/'},\n",
       "  {'question': 'Which is better, BMW or Mercedes?',\n",
       "   'snippet': 'Mercedes-Benz vs BMW: Which Brand Has Better Performance? Performance is a crucial factor to consider when buying a luxury car. BMW has a slight edge over Mercedes in terms of performance and driving dynamics. However, Mercedes offers a more refined and luxurious driving experience.',\n",
       "   'title': 'Mercedes vs BMW: The age-old rivals - TYR Car Sales',\n",
       "   'link': 'https://www.tyrcars.co.uk/blog/mercedes-vs-bmw-the-age-old-rivals'},\n",
       "  {'question': 'Are BMWs expensive to maintain?',\n",
       "   'snippet': \"Is it expensive to maintain a BMW? Yes, BMWs can be expensive to maintain, with the average annual maintenance cost being around $968, according to RepairPal. While this is more expensive than standard vehicles, it's on par with the annual maintenance costs of luxury vehicles.\",\n",
       "   'title': 'How Much Does BMW Maintenance Cost? (2024 Guide) - MarketWatch',\n",
       "   'link': 'https://www.marketwatch.com/guides/car-warranty/bmw-maintenance-cost/'}],\n",
       " 'relatedSearches': [{'query': 'Bmw bike'},\n",
       "  {'query': 'Bmw car'},\n",
       "  {'query': 'Bmw price'},\n",
       "  {'query': 'BMW UK'},\n",
       "  {'query': 'BMW usa'},\n",
       "  {'query': 'BMW logo'},\n",
       "  {'query': 'BMW SUV'},\n",
       "  {'query': 'Bmw 2024'}]}"
      ]
     },
     "execution_count": 15,
     "metadata": {},
     "output_type": "execute_result"
    }
   ],
   "source": [
    "response.json()"
   ]
  },
  {
   "cell_type": "code",
   "execution_count": 16,
   "metadata": {},
   "outputs": [
    {
     "data": {
      "text/plain": [
       "[{'title': 'BMW USA: Luxury SUVs, Sedans, Coupes, Convertibles & Crossovers',\n",
       "  'link': 'https://www.bmwusa.com/',\n",
       "  'snippet': 'Explore models, build your own, and find local inventory from a nearby BMW Center. Experience the performance, luxury, and innovation of the Ultimate ...',\n",
       "  'sitelinks': [{'title': 'Build Your Own',\n",
       "    'link': 'https://www.bmwusa.com/build-your-own.html'},\n",
       "   {'title': 'All BMW Models', 'link': 'https://www.bmwusa.com/all-bmws.html'},\n",
       "   {'title': 'Shop Pre-Owned Inventory',\n",
       "    'link': 'https://www.bmwusa.com/certified-preowned-search.html'},\n",
       "   {'title': 'Shop New Inventory',\n",
       "    'link': 'https://www.bmwusa.com/inventory.html'},\n",
       "   {'title': 'Lease & Finance Offers',\n",
       "    'link': 'https://www.bmwusa.com/special-offers.html'}],\n",
       "  'position': 1},\n",
       " {'title': 'Home | BMW Motorrad',\n",
       "  'link': 'https://www.bmwmotorcycles.com/en/home.html',\n",
       "  'snippet': 'Manage your BMW ID for all BMW Motorrad, BMW and MINI offers. My BMW Motorrad ... The BMW Motorrad Concept Link takes new, connected paths.',\n",
       "  'sitelinks': [{'title': 'All Models',\n",
       "    'link': 'https://www.bmwmotorcycles.com/en/models/modeloverview.html'},\n",
       "   {'title': 'My BMW',\n",
       "    'link': 'https://www.bmwmotorcycles.com/en/my-bmw-motorrad.html'},\n",
       "   {'title': 'Model selection',\n",
       "    'link': 'https://configurator.bmwmotorcycles.com/index_en_US.html?cookie=1'},\n",
       "   {'title': 'BMW Financial Services',\n",
       "    'link': 'https://www.bmwmotorcycles.com/en/financial-services/overview.html'}],\n",
       "  'position': 2},\n",
       " {'title': 'BMW Group',\n",
       "  'link': 'https://www.bmwgroup.com/en.html',\n",
       "  'snippet': 'Welcome to the BMW Group. Our focus on the premium idea and the principle of sustainability appeals to people worldwide.',\n",
       "  'sitelinks': [{'title': 'Company',\n",
       "    'link': 'https://www.bmwgroup.com/en/company.html'},\n",
       "   {'title': 'The BMW Vision Neue Klasse X',\n",
       "    'link': 'https://www.bmwgroup.com/en/news/general/2024/bmw-vision-neue-klasse-x.html'},\n",
       "   {'title': 'Investor Relations',\n",
       "    'link': 'https://www.bmwgroup.com/en/investor-relations.html'},\n",
       "   {'title': 'Sustainability',\n",
       "    'link': 'https://www.bmwgroup.com/en/sustainability.html'}],\n",
       "  'position': 3},\n",
       " {'title': 'BMW - Wikipedia',\n",
       "  'link': 'https://en.wikipedia.org/wiki/BMW',\n",
       "  'snippet': 'Bayerische Motoren Werke AG, commonly abbreviated to BMW is a German multinational manufacturer of luxury vehicles and motorcycles headquartered in Munich, ...',\n",
       "  'sitelinks': [{'title': 'History',\n",
       "    'link': 'https://en.wikipedia.org/wiki/History_of_BMW'},\n",
       "   {'title': 'BMW in the United States',\n",
       "    'link': 'https://en.wikipedia.org/wiki/BMW_in_the_United_States'},\n",
       "   {'title': 'List of BMW vehicles',\n",
       "    'link': 'https://en.wikipedia.org/wiki/List_of_BMW_vehicles'},\n",
       "   {'title': 'BMW Dixi', 'link': 'https://en.wikipedia.org/wiki/BMW_Dixi'}],\n",
       "  'position': 4},\n",
       " {'title': 'BMW Motorrad: Home',\n",
       "  'link': 'https://www.bmw-motorrad.com/en/home.html',\n",
       "  'snippet': 'The BMW Motorrad Experience Hub: Experience the brand BMW Motorrad and be inspired by the #MakeLifeARide spirit.',\n",
       "  'position': 5},\n",
       " {'title': 'BMW.com | The international BMW Website',\n",
       "  'link': 'https://www.bmw.com/en/index.html',\n",
       "  'snippet': 'Dive into new worlds with BMW, get inspired, and experience the unknown, the unusual and some useful things, too.',\n",
       "  'sitelinks': [{'title': 'About BMW.com',\n",
       "    'link': 'https://www.bmw.com/en/footer/about-bmw-com.html'},\n",
       "   {'title': 'Software Update',\n",
       "    'link': 'https://www.bmw.com/en/footer/software-updates.html'},\n",
       "   {'title': 'BMW i5',\n",
       "    'link': 'https://www.bmw.com/en/digital-journey/bmw-i5-helpful-features-for-everyday-life.html'},\n",
       "   {'title': 'BMW Podcasts',\n",
       "    'link': 'https://www.bmw.com/en/podcasts-overview.html'}],\n",
       "  'position': 6},\n",
       " {'title': 'all models, colors, packages and prices - BMW Motorrad Configurator',\n",
       "  'link': 'https://configurator.bmwmotorcycles.com/index_en_US.html?cookie=1',\n",
       "  'snippet': 'The official BMW Motorrad NA Bike Configurator. Build your dream bike. View our current model range, find a retailer and test ride a BMW motorcycle today.',\n",
       "  'position': 7}]"
      ]
     },
     "execution_count": 16,
     "metadata": {},
     "output_type": "execute_result"
    }
   ],
   "source": [
    "response.json()['organic']"
   ]
  },
  {
   "cell_type": "code",
   "execution_count": 21,
   "metadata": {},
   "outputs": [],
   "source": [
    "top_result_to_return = 4\n",
    "def search_news(query):\n",
    "    url = \"https://google.serper.dev/news\"\n",
    "    payload = json.dumps({\"q\": query})\n",
    "    headers = {\n",
    "        'X-API-KEY': os.environ['SERPER_API_KEY'],\n",
    "        'content-type': 'application/json'\n",
    "    }\n",
    "    response = requests.request(\"POST\", url, headers=headers, data=payload)\n",
    "    results = response.json()['news']\n",
    "    string = []\n",
    "    for result in results[:top_result_to_return]:\n",
    "      try:\n",
    "        string.append('\\n'.join([\n",
    "            f\"Title: {result['title']}\", f\"Link: {result['link']}\",\n",
    "            f\"Snippet: {result['snippet']}\", \"\\n-----------------\"\n",
    "        ]))\n",
    "      except KeyError:\n",
    "        next\n",
    "\n",
    "    return '\\n'.join(string)"
   ]
  },
  {
   "cell_type": "code",
   "execution_count": 22,
   "metadata": {},
   "outputs": [],
   "source": [
    "news_response = search_news(\"BMW\")"
   ]
  },
  {
   "cell_type": "code",
   "execution_count": 23,
   "metadata": {},
   "outputs": [
    {
     "data": {
      "text/plain": [
       "\"Title: The 2024 BMW M3 CS Is Stupid Fast\\nLink: https://www.motor1.com/reviews/725272/2024-bmw-m3-cs-review-track-test/\\nSnippet: We drive the 2024 BMW M3 CS and discover just how quick and capable it can be at Lime Rock Park, Connecticut's historic race track.\\n\\n-----------------\""
      ]
     },
     "execution_count": 23,
     "metadata": {},
     "output_type": "execute_result"
    }
   ],
   "source": [
    "news_response"
   ]
  },
  {
   "cell_type": "code",
   "execution_count": 24,
   "metadata": {},
   "outputs": [
    {
     "name": "stderr",
     "output_type": "stream",
     "text": [
      "USER_AGENT environment variable not set, consider setting it to identify your requests.\n"
     ]
    }
   ],
   "source": [
    "from langchain.tools.yahoo_finance_news import YahooFinanceNewsTool\n"
   ]
  },
  {
   "cell_type": "code",
   "execution_count": 36,
   "metadata": {},
   "outputs": [],
   "source": [
    "t = YahooFinanceNewsTool(query=\"GOOG\")"
   ]
  },
  {
   "cell_type": "code",
   "execution_count": 34,
   "metadata": {},
   "outputs": [
    {
     "data": {
      "text/plain": [
       "<Response [404]>"
      ]
     },
     "execution_count": 34,
     "metadata": {},
     "output_type": "execute_result"
    }
   ],
   "source": [
    "ynews"
   ]
  },
  {
   "cell_type": "code",
   "execution_count": 37,
   "metadata": {},
   "outputs": [],
   "source": [
    "from sec_api import QueryApi\n",
    "stock = \"GOOG\"\n",
    "if stock:\n",
    "    queryApi = QueryApi(api_key=os.environ['SEC_API_API_KEY'])\n",
    "    query = {\n",
    "      \"query\": {\n",
    "        \"query_string\": {\n",
    "          \"query\": f\"ticker:{stock} AND formType:\\\"10-Q\\\"\"\n",
    "        }\n",
    "      },\n",
    "      \"from\": \"0\",\n",
    "      \"size\": \"1\",\n",
    "      \"sort\": [{ \"filedAt\": { \"order\": \"desc\" }}]\n",
    "    }\n",
    "\n",
    "    fillings = queryApi.get_filings(query)['filings']\n",
    "    if len(fillings) == 0:\n",
    "      print(\"Sorry, I couldn't find any filling for this stock, check if the ticker is correct.\")\n",
    "    link = fillings[0]['linkToFilingDetails']"
   ]
  },
  {
   "cell_type": "code",
   "execution_count": 38,
   "metadata": {},
   "outputs": [
    {
     "data": {
      "text/plain": [
       "[{'ticker': 'GOOG',\n",
       "  'formType': '10-Q',\n",
       "  'accessionNo': '0001652044-24-000053',\n",
       "  'cik': '1652044',\n",
       "  'companyNameLong': 'Alphabet Inc. (Filer)',\n",
       "  'companyName': 'Alphabet Inc.',\n",
       "  'linkToFilingDetails': 'https://www.sec.gov/Archives/edgar/data/1652044/000165204424000053/goog-20240331.htm',\n",
       "  'description': 'Form 10-Q - Quarterly report [Sections 13 or 15(d)]',\n",
       "  'linkToTxt': 'https://www.sec.gov/Archives/edgar/data/1652044/000165204424000053/0001652044-24-000053.txt',\n",
       "  'filedAt': '2024-04-25T20:22:11-04:00',\n",
       "  'documentFormatFiles': [{'sequence': '1',\n",
       "    'size': '1493403',\n",
       "    'documentUrl': 'https://www.sec.gov/ix?doc=/Archives/edgar/data/1652044/000165204424000053/goog-20240331.htm',\n",
       "    'description': '10-Q',\n",
       "    'type': '10-Q'},\n",
       "   {'sequence': '2',\n",
       "    'size': '51747',\n",
       "    'documentUrl': 'https://www.sec.gov/Archives/edgar/data/1652044/000165204424000053/googexhibit1001q12024.htm',\n",
       "    'description': 'EX-10.01',\n",
       "    'type': 'EX-10.01'},\n",
       "   {'sequence': '3',\n",
       "    'size': '78819',\n",
       "    'documentUrl': 'https://www.sec.gov/Archives/edgar/data/1652044/000165204424000053/googexhibit1002q12024.htm',\n",
       "    'description': 'EX-10.02',\n",
       "    'type': 'EX-10.02'},\n",
       "   {'sequence': '4',\n",
       "    'size': '229952',\n",
       "    'documentUrl': 'https://www.sec.gov/Archives/edgar/data/1652044/000165204424000053/googexhibit1003q12024.htm',\n",
       "    'description': 'EX-10.03',\n",
       "    'type': 'EX-10.03'},\n",
       "   {'sequence': '5',\n",
       "    'size': '10920',\n",
       "    'documentUrl': 'https://www.sec.gov/Archives/edgar/data/1652044/000165204424000053/googexhibit3101q12024.htm',\n",
       "    'description': 'EX-31.01',\n",
       "    'type': 'EX-31.01'},\n",
       "   {'sequence': '6',\n",
       "    'size': '10943',\n",
       "    'documentUrl': 'https://www.sec.gov/Archives/edgar/data/1652044/000165204424000053/googexhibit3102q12024.htm',\n",
       "    'description': 'EX-31.02',\n",
       "    'type': 'EX-31.02'},\n",
       "   {'sequence': '7',\n",
       "    'size': '9409',\n",
       "    'documentUrl': 'https://www.sec.gov/Archives/edgar/data/1652044/000165204424000053/googexhibit3201q12024.htm',\n",
       "    'description': 'EX-32.01',\n",
       "    'type': 'EX-32.01'},\n",
       "   {'sequence': '\\xa0',\n",
       "    'size': '9730858',\n",
       "    'documentUrl': 'https://www.sec.gov/Archives/edgar/data/1652044/000165204424000053/0001652044-24-000053.txt',\n",
       "    'description': 'Complete submission text file',\n",
       "    'type': '\\xa0'}],\n",
       "  'periodOfReport': '2024-03-31',\n",
       "  'entities': [{'fiscalYearEnd': '1231',\n",
       "    'stateOfIncorporation': 'DE',\n",
       "    'act': '34',\n",
       "    'cik': '1652044',\n",
       "    'fileNo': '001-37580',\n",
       "    'irsNo': '611767919',\n",
       "    'companyName': 'Alphabet Inc. (Filer)',\n",
       "    'type': '10-Q',\n",
       "    'sic': '7370 Services-Computer Programming, Data Processing, Etc.',\n",
       "    'filmNo': '24878285',\n",
       "    'undefined': '06 Technology)'}],\n",
       "  'id': '25366c0d7adaf224adbdd4d33fab60fe',\n",
       "  'seriesAndClassesContractsInformation': [],\n",
       "  'linkToHtml': 'https://www.sec.gov/Archives/edgar/data/1652044/000165204424000053/0001652044-24-000053-index.htm',\n",
       "  'linkToXbrl': '',\n",
       "  'dataFiles': [{'sequence': '8',\n",
       "    'size': '56235',\n",
       "    'documentUrl': 'https://www.sec.gov/Archives/edgar/data/1652044/000165204424000053/goog-20240331.xsd',\n",
       "    'description': 'XBRL TAXONOMY EXTENSION SCHEMA DOCUMENT',\n",
       "    'type': 'EX-101.SCH'},\n",
       "   {'sequence': '9',\n",
       "    'size': '113928',\n",
       "    'documentUrl': 'https://www.sec.gov/Archives/edgar/data/1652044/000165204424000053/goog-20240331_cal.xml',\n",
       "    'description': 'XBRL TAXONOMY EXTENSION CALCULATION LINKBASE DOCUMENT',\n",
       "    'type': 'EX-101.CAL'},\n",
       "   {'sequence': '10',\n",
       "    'size': '313277',\n",
       "    'documentUrl': 'https://www.sec.gov/Archives/edgar/data/1652044/000165204424000053/goog-20240331_def.xml',\n",
       "    'description': 'XBRL TAXONOMY EXTENSION DEFINITION LINKBASE DOCUMENT',\n",
       "    'type': 'EX-101.DEF'},\n",
       "   {'sequence': '11',\n",
       "    'size': '749054',\n",
       "    'documentUrl': 'https://www.sec.gov/Archives/edgar/data/1652044/000165204424000053/goog-20240331_lab.xml',\n",
       "    'description': 'XBRL TAXONOMY EXTENSION LABEL LINKBASE DOCUMENT',\n",
       "    'type': 'EX-101.LAB'},\n",
       "   {'sequence': '12',\n",
       "    'size': '531976',\n",
       "    'documentUrl': 'https://www.sec.gov/Archives/edgar/data/1652044/000165204424000053/goog-20240331_pre.xml',\n",
       "    'description': 'XBRL TAXONOMY EXTENSION PRESENTATION LINKBASE DOCUMENT',\n",
       "    'type': 'EX-101.PRE'},\n",
       "   {'sequence': '94',\n",
       "    'size': '1681956',\n",
       "    'documentUrl': 'https://www.sec.gov/Archives/edgar/data/1652044/000165204424000053/goog-20240331_htm.xml',\n",
       "    'description': 'EXTRACTED XBRL INSTANCE DOCUMENT',\n",
       "    'type': 'XML'}]}]"
      ]
     },
     "execution_count": 38,
     "metadata": {},
     "output_type": "execute_result"
    }
   ],
   "source": [
    "fillings"
   ]
  },
  {
   "cell_type": "code",
   "execution_count": 40,
   "metadata": {},
   "outputs": [],
   "source": [
    "def __download_form_html(url):\n",
    "    headers = {\n",
    "      'Accept': 'text/html,application/xhtml+xml,application/xml;q=0.9,image/avif,image/webp,image/apng,*/*;q=0.8,application/signed-exchange;v=b3;q=0.7',\n",
    "      'Accept-Encoding': 'gzip, deflate, br',\n",
    "      'Accept-Language': 'en-US,en;q=0.9,pt-BR;q=0.8,pt;q=0.7',\n",
    "      'Cache-Control': 'max-age=0',\n",
    "      'Dnt': '1',\n",
    "      'Sec-Ch-Ua': '\"Not_A Brand\";v=\"8\", \"Chromium\";v=\"120\"',\n",
    "      'Sec-Ch-Ua-Mobile': '?0',\n",
    "      'Sec-Ch-Ua-Platform': '\"macOS\"',\n",
    "      'Sec-Fetch-Dest': 'document',\n",
    "      'Sec-Fetch-Mode': 'navigate',\n",
    "      'Sec-Fetch-Site': 'none',\n",
    "      'Sec-Fetch-User': '?1',\n",
    "      'Upgrade-Insecure-Requests': '1',\n",
    "      'User-Agent': 'Mozilla/5.0 (Macintosh; Intel Mac OS X 10_15_7) AppleWebKit/537.36 (KHTML, like Gecko) Chrome/120.0.0.0 Safari/537.36'\n",
    "    }\n",
    "\n",
    "    response = requests.get(url, headers=headers)\n",
    "    return response.text"
   ]
  },
  {
   "cell_type": "code",
   "execution_count": 41,
   "metadata": {},
   "outputs": [],
   "source": [
    "from langchain.tools import tool\n",
    "from langchain.text_splitter import CharacterTextSplitter\n",
    "from langchain.embeddings import OpenAIEmbeddings\n",
    "from langchain_community.vectorstores import FAISS\n",
    "from unstructured.partition.html import partition_html\n",
    "\n",
    "def __embedding_search(url, ask):\n",
    "    text = __download_form_html(url)\n",
    "    elements = partition_html(text=text)\n",
    "    content = \"\\n\".join([str(el) for el in elements])\n",
    "    text_splitter = CharacterTextSplitter(\n",
    "        separator = \"\\n\",\n",
    "        chunk_size = 1000,\n",
    "        chunk_overlap  = 150,\n",
    "        length_function = len,\n",
    "        is_separator_regex = False,\n",
    "    )\n",
    "    docs = text_splitter.create_documents([content])\n",
    "    retriever = FAISS.from_documents(\n",
    "      docs, OpenAIEmbeddings()\n",
    "    ).as_retriever()\n",
    "    answers = retriever.get_relevant_documents(ask, top_k=4)\n",
    "    answers = \"\\n\\n\".join([a.page_content for a in answers])\n",
    "    return answers"
   ]
  },
  {
   "cell_type": "code",
   "execution_count": 43,
   "metadata": {},
   "outputs": [
    {
     "name": "stderr",
     "output_type": "stream",
     "text": [
      "[nltk_data] Downloading package punkt to\n",
      "[nltk_data]     /Users/deepakmishra/nltk_data...\n",
      "[nltk_data]   Unzipping tokenizers/punkt.zip.\n",
      "[nltk_data] Downloading package averaged_perceptron_tagger to\n",
      "[nltk_data]     /Users/deepakmishra/nltk_data...\n",
      "[nltk_data]   Unzipping taggers/averaged_perceptron_tagger.zip.\n",
      "Created a chunk of size 1993, which is longer than the specified 1000\n",
      "Created a chunk of size 1863, which is longer than the specified 1000\n",
      "Created a chunk of size 1813, which is longer than the specified 1000\n",
      "Created a chunk of size 1146, which is longer than the specified 1000\n",
      "Created a chunk of size 1141, which is longer than the specified 1000\n",
      "Created a chunk of size 1014, which is longer than the specified 1000\n",
      "Created a chunk of size 1146, which is longer than the specified 1000\n",
      "Created a chunk of size 1147, which is longer than the specified 1000\n",
      "Created a chunk of size 1244, which is longer than the specified 1000\n",
      "Created a chunk of size 1323, which is longer than the specified 1000\n",
      "Created a chunk of size 1163, which is longer than the specified 1000\n",
      "Created a chunk of size 1095, which is longer than the specified 1000\n",
      "Created a chunk of size 1557, which is longer than the specified 1000\n",
      "/Users/deepakmishra/.pyenv/versions/3.10.14/envs/denv/lib/python3.10/site-packages/langchain_core/_api/deprecation.py:139: LangChainDeprecationWarning: The class `OpenAIEmbeddings` was deprecated in LangChain 0.0.9 and will be removed in 0.3.0. An updated version of the class exists in the langchain-openai package and should be used instead. To use it run `pip install -U langchain-openai` and import as `from langchain_openai import OpenAIEmbeddings`.\n",
      "  warn_deprecated(\n",
      "/Users/deepakmishra/.pyenv/versions/3.10.14/envs/denv/lib/python3.10/site-packages/langchain_core/_api/deprecation.py:139: LangChainDeprecationWarning: The method `BaseRetriever.get_relevant_documents` was deprecated in langchain-core 0.1.46 and will be removed in 0.3.0. Use invoke instead.\n",
      "  warn_deprecated(\n"
     ]
    }
   ],
   "source": [
    "link = fillings[0]['linkToFilingDetails']\n",
    "ask = \"what was last year's revenue\"\n",
    "answer = __embedding_search(link, ask)"
   ]
  },
  {
   "cell_type": "code",
   "execution_count": 44,
   "metadata": {},
   "outputs": [
    {
     "data": {
      "text/plain": [
       "'Total constant currency revenues, which exclude the effect of hedging, increased 16% year over year.\\nCost of revenues was $33.7 billion, an increase of 10% year over year, primarily driven by increases in TAC, content acquisition costs, and depreciation expense. These increases were partially offset by decreases in compensation expenses, largely the result of a reduction in employee severance and related charges, and charges related to our office space optimization efforts.\\nOperating expenses were $21.4 billion, a decrease of 2% year over year, primarily driven by decreases in charges related to our office space optimization efforts, compensation expenses, largely the result of a reduction in employee severance and related charges, and charges related to legal matters. These decreases were partially offset by an increase in depreciation expense.\\n32\\nOther Information\\n\\nAs of March\\xa031, 2024, we had 180,895 employees.\\nFinancial Results\\nRevenues\\nThe following table presents revenues by type (in millions):\\nThree Months Ended March 31, 2023 2024 Google Search & other $ 40,359 $ 46,156 YouTube ads 6,693 8,090 Google Network 7,496 7,413 Google advertising 54,548 61,659 Google subscriptions, platforms, and devices 7,413 8,739 Google Services total 61,961 70,398 Google Cloud 7,454 9,574 Other Bets 288 495 Hedging gains (losses) 84 72 Total revenues $ 69,787 $ 80,539\\nGoogle Services\\nGoogle advertising revenues\\nGoogle Search & other\\nGoogle Search & other revenues increased $5.8 billion from the three months ended March 31, 2023 to the three months ended March 31, 2024. The overall growth was driven by interrelated factors including increases in search queries resulting from growth in user adoption and usage on mobile devices; growth in advertiser spending; and improvements we have made in ad formats and delivery.\\nYouTube ads\\n\\nExecutive Overview\\nThe following table summarizes our consolidated financial results (in millions, except per share information and percentages):\\nThree Months Ended March 31, 2023 2024 $ Change % Change Consolidated revenues $ 69,787 $ 80,539 $ 10,752 15 % Change in consolidated constant currency revenues (1) 16 %  Cost of revenues $ 30,612 $ 33,712 $ 3,100 10 % Operating expenses $ 21,760 $ 21,355 $ (405) (2) %  Operating income $ 17,415 $ 25,472 $ 8,057 46 % Operating margin 25 % 32 % 7 %  Other income (expense), net $ 790 $ 2,843 $ 2,053 260 %  Net Income $ 15,051 $ 23,662 $ 8,611 57 % Diluted EPS $ 1.17 $ 1.89 $ 0.72 62 %\\n(1)\\nSee \"Use of Non-GAAP Constant Currency Measures\" below for details relating to our use of constant currency information.\\nRevenues were $80.5 billion, an increase of 15% year over year, primarily driven by an increase in Google Services revenues of $8.4 billion, or 14%, and an increase in Google Cloud revenues of $2.1 billion, or 28%.\\n\\nRevenues and Monetization Metrics\\nWe generate revenues by delivering relevant, cost-effective online advertising; cloud-based solutions that provide enterprise customers of all sizes with infrastructure and platform services as well as communication and collaboration tools; sales of other products and services, such as fees received for subscription-based products, apps and in-app purchases, and devices. For additional information on how we recognize revenue, see Note 1 of the Notes to Consolidated Financial Statements included in Part II, Item 8 in our Annual Report on Form 10-K for the fiscal year ended December\\xa031, 2023.\\nIn addition to the long-term trends and their financial effect on our business discussed in \"Trends in Our Business and Financial Effect\" in Part II, Item 7 of our Annual Report on Form 10-K for the fiscal year ended December\\xa031, 2023, fluctuations in our revenues have been and may continue to be affected by a combination of factors, including:'"
      ]
     },
     "execution_count": 44,
     "metadata": {},
     "output_type": "execute_result"
    }
   ],
   "source": [
    "answer"
   ]
  },
  {
   "cell_type": "code",
   "execution_count": null,
   "metadata": {},
   "outputs": [],
   "source": []
  }
 ],
 "metadata": {
  "kernelspec": {
   "display_name": "denv",
   "language": "python",
   "name": "python3"
  },
  "language_info": {
   "codemirror_mode": {
    "name": "ipython",
    "version": 3
   },
   "file_extension": ".py",
   "mimetype": "text/x-python",
   "name": "python",
   "nbconvert_exporter": "python",
   "pygments_lexer": "ipython3",
   "version": "3.10.14"
  }
 },
 "nbformat": 4,
 "nbformat_minor": 2
}
